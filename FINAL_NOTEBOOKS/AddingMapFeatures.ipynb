{
 "cells": [
  {
   "cell_type": "code",
   "execution_count": 8,
   "id": "e7053b51",
   "metadata": {},
   "outputs": [
    {
     "name": "stdout",
     "output_type": "stream",
     "text": [
      "The autoreload extension is already loaded. To reload it, use:\n",
      "  %reload_ext autoreload\n"
     ]
    }
   ],
   "source": [
    "%load_ext autoreload\n",
    "%autoreload 2\n",
    "import sys\n",
    "import pandas as pd\n",
    "sys.path.append(\"..\")\n",
    "from Services import GeoService, MapFeatureAggregator, AddressToCoordinateConverter\n",
    "\n",
    "import warnings\n",
    "warnings.filterwarnings('ignore')"
   ]
  },
  {
   "cell_type": "code",
   "execution_count": 9,
   "id": "18677cb4",
   "metadata": {},
   "outputs": [
    {
     "data": {
      "text/html": [
       "<div>\n",
       "<style scoped>\n",
       "    .dataframe tbody tr th:only-of-type {\n",
       "        vertical-align: middle;\n",
       "    }\n",
       "\n",
       "    .dataframe tbody tr th {\n",
       "        vertical-align: top;\n",
       "    }\n",
       "\n",
       "    .dataframe thead th {\n",
       "        text-align: right;\n",
       "    }\n",
       "</style>\n",
       "<table border=\"1\" class=\"dataframe\">\n",
       "  <thead>\n",
       "    <tr style=\"text-align: right;\">\n",
       "      <th></th>\n",
       "      <th>source</th>\n",
       "      <th>id</th>\n",
       "      <th>price</th>\n",
       "      <th>area</th>\n",
       "      <th>rooms</th>\n",
       "      <th>floor</th>\n",
       "      <th>storeys</th>\n",
       "      <th>bathroom_count</th>\n",
       "      <th>new_building</th>\n",
       "      <th>F_Furniture</th>\n",
       "      <th>...</th>\n",
       "      <th>latitude</th>\n",
       "      <th>longitude</th>\n",
       "      <th>building_type_Monolit</th>\n",
       "      <th>building_type_Other</th>\n",
       "      <th>building_type_Panel</th>\n",
       "      <th>building_type_Stone</th>\n",
       "      <th>condition_Good Condition</th>\n",
       "      <th>condition_Needs Renovation/Repair</th>\n",
       "      <th>condition_New/Excellent Condition</th>\n",
       "      <th>condition_Other</th>\n",
       "    </tr>\n",
       "  </thead>\n",
       "  <tbody>\n",
       "    <tr>\n",
       "      <th>0</th>\n",
       "      <td>bars</td>\n",
       "      <td>4-3-1430</td>\n",
       "      <td>2148.760331</td>\n",
       "      <td>60.5</td>\n",
       "      <td>2.0</td>\n",
       "      <td>3.0</td>\n",
       "      <td>13.0</td>\n",
       "      <td>1.0</td>\n",
       "      <td>1</td>\n",
       "      <td>0</td>\n",
       "      <td>...</td>\n",
       "      <td>44.503848</td>\n",
       "      <td>40.198558</td>\n",
       "      <td>0</td>\n",
       "      <td>1</td>\n",
       "      <td>0</td>\n",
       "      <td>0</td>\n",
       "      <td>0</td>\n",
       "      <td>1</td>\n",
       "      <td>0</td>\n",
       "      <td>0</td>\n",
       "    </tr>\n",
       "  </tbody>\n",
       "</table>\n",
       "<p>1 rows × 26 columns</p>\n",
       "</div>"
      ],
      "text/plain": [
       "  source        id        price  area  rooms  floor  storeys  bathroom_count  \\\n",
       "0   bars  4-3-1430  2148.760331  60.5    2.0    3.0     13.0             1.0   \n",
       "\n",
       "   new_building  F_Furniture  ...   latitude  longitude  \\\n",
       "0             1            0  ...  44.503848  40.198558   \n",
       "\n",
       "   building_type_Monolit  building_type_Other  building_type_Panel  \\\n",
       "0                      0                    1                    0   \n",
       "\n",
       "   building_type_Stone  condition_Good Condition  \\\n",
       "0                    0                         0   \n",
       "\n",
       "   condition_Needs Renovation/Repair  condition_New/Excellent Condition  \\\n",
       "0                                  1                                  0   \n",
       "\n",
       "   condition_Other  \n",
       "0                0  \n",
       "\n",
       "[1 rows x 26 columns]"
      ]
     },
     "execution_count": 9,
     "metadata": {},
     "output_type": "execute_result"
    }
   ],
   "source": [
    "data = pd.read_csv(\"../processed_data/data_no_map.csv\", index_col = 0)\n",
    "data.head(1)"
   ]
  },
  {
   "cell_type": "code",
   "execution_count": 10,
   "id": "e754bc90",
   "metadata": {},
   "outputs": [],
   "source": [
    "data[\"coordinates\"] = data.apply(lambda row: (row['longitude'], row['latitude']), axis=1)"
   ]
  },
  {
   "cell_type": "code",
   "execution_count": null,
   "id": "976ac5b9",
   "metadata": {},
   "outputs": [
    {
     "name": "stdout",
     "output_type": "stream",
     "text": [
      "Progress: 199/2802\n"
     ]
    }
   ],
   "source": [
    "significant_places = { \n",
    "    \"opera\" : (40.18600,44.51509),\n",
    "    \"malibu\" : (40.18306,44.50799),\n",
    "    \"aua\" : (40.19243,44.50446),\n",
    "    \"zvartnoc\" : (40.1523,44.4005),\n",
    "    \"dalma\": (40.1791, 44.48846),\n",
    "    \"yerevan_mall\": (40.1554014, 44.5004910),\n",
    "    \n",
    "    \"shumyan_cemetery\": (40.19808, 44.45623),\n",
    "    \"nork_cemetery\": (40.19281, 44.54679),\n",
    "    \"central_cemetery\": (40.1508, 44.5389),\n",
    "    \"davtashen_cemetery\": (40.22316, 44.47704),\n",
    "    \"zeytun_cemetery\": (40.21245, 44.5462),\n",
    "    \"yerablur\": (40.15946, 44.4536),\n",
    "    \"avan_cemetery\": (40.20994, 44.57205),\n",
    "    \n",
    "    \"baghramyan_subway\": (40.19724, 44.49378),\n",
    "    \"barekamutyun_subway\": (40.1969400, 44.4950315),\n",
    "    \"yeritasardakan_subway\": (40.1862126, 44.5198850),\n",
    "    \"zoravar_subway\" : (40.17122, 44.51217),\n",
    "    \"sasunci_subway\" : (40.1546043, 44.5071543),\n",
    "    \"gorcarain_subway\" : (40.14107, 44.49867),\n",
    "    \"shengavit_subway\" : (40.1449161, 44.4858505),\n",
    "    \"gergin_subway\" : (40.1502947, 44.4826370),\n",
    "    \"charbakh_subway\" : (40.1407315, 44.4707780),\n",
    "    \n",
    "    \"avan\" : (40.21883, 44.58259),\n",
    "    \"massiv\" : (40.1419, 44.518)\n",
    "}\n",
    "\n",
    "significant_places = {\"SL_\" + k : v for (k, v) in significant_places.items()}\n",
    "\n",
    "geo_service = GeoService(\n",
    "    significant_places,\n",
    "    radius = 300\n",
    ")\n",
    "\n",
    "featurer = MapFeatureAggregator(geo_service)\n",
    "significant_distances = featurer.significant_distances(data, \"coordinates\")\n",
    "amenities = featurer.amenities_count(data, \"coordinates\")"
   ]
  },
  {
   "cell_type": "code",
   "execution_count": 6,
   "id": "abb9070c",
   "metadata": {},
   "outputs": [
    {
     "ename": "NameError",
     "evalue": "name 'concatenated' is not defined",
     "output_type": "error",
     "traceback": [
      "\u001b[0;31m---------------------------------------------------------------------------\u001b[0m",
      "\u001b[0;31mNameError\u001b[0m                                 Traceback (most recent call last)",
      "Input \u001b[0;32mIn [6]\u001b[0m, in \u001b[0;36m<cell line: 1>\u001b[0;34m()\u001b[0m\n\u001b[0;32m----> 1\u001b[0m \u001b[38;5;28mlist\u001b[39m(\u001b[43mconcatenated\u001b[49m\u001b[38;5;241m.\u001b[39mcolumns)\n\u001b[1;32m      2\u001b[0m important_amenities \u001b[38;5;241m=\u001b[39m [\n\u001b[1;32m      3\u001b[0m     \u001b[38;5;124m\"\u001b[39m\u001b[38;5;124mL_payment_terminal\u001b[39m\u001b[38;5;124m\"\u001b[39m,\n\u001b[1;32m      4\u001b[0m     \u001b[38;5;124m\"\u001b[39m\u001b[38;5;124mL_pharmacy\u001b[39m\u001b[38;5;124m\"\u001b[39m,\n\u001b[0;32m   (...)\u001b[0m\n\u001b[1;32m     20\u001b[0m     \u001b[38;5;124m\"\u001b[39m\u001b[38;5;124mL_stripclub\u001b[39m\u001b[38;5;124m\"\u001b[39m\n\u001b[1;32m     21\u001b[0m ]\n",
      "\u001b[0;31mNameError\u001b[0m: name 'concatenated' is not defined"
     ]
    }
   ],
   "source": [
    "list(concatenated.columns)\n",
    "important_amenities = [\n",
    "    \"L_payment_terminal\",\n",
    "    \"L_pharmacy\",\n",
    "    \"L_atm\",\n",
    "    \"L_car_wash\",\n",
    "    \"L_waste_disposal\",\n",
    "    \"L_parking\",\n",
    "    \"L_bank\",\n",
    "    \"L_clinic\",\n",
    "    \"L_fuel\",\n",
    "    \"L_school\",\n",
    "    \"L_place_of_worship\",\n",
    "    \"L_music_school\",\n",
    "    \"L_university\",\n",
    "    \"L_kindergarten\",\n",
    "    \"L_bus_station\",\n",
    "    \"L_hospital\",\n",
    "    \"L_prison\",\n",
    "    \"L_stripclub\"\n",
    "]\n"
   ]
  },
  {
   "cell_type": "code",
   "execution_count": 7,
   "id": "112d0e27",
   "metadata": {},
   "outputs": [
    {
     "ename": "NameError",
     "evalue": "name 'significant_distances' is not defined",
     "output_type": "error",
     "traceback": [
      "\u001b[0;31m---------------------------------------------------------------------------\u001b[0m",
      "\u001b[0;31mNameError\u001b[0m                                 Traceback (most recent call last)",
      "Input \u001b[0;32mIn [7]\u001b[0m, in \u001b[0;36m<cell line: 1>\u001b[0;34m()\u001b[0m\n\u001b[1;32m      1\u001b[0m data \u001b[38;5;241m=\u001b[39m pd\u001b[38;5;241m.\u001b[39mconcat([\n\u001b[1;32m      2\u001b[0m     data,\n\u001b[0;32m----> 3\u001b[0m     \u001b[43msignificant_distances\u001b[49m,\n\u001b[1;32m      4\u001b[0m     amenities[important_amenities]\n\u001b[1;32m      5\u001b[0m ], axis \u001b[38;5;241m=\u001b[39m \u001b[38;5;241m1\u001b[39m)\n\u001b[1;32m      6\u001b[0m data \u001b[38;5;241m=\u001b[39m data\u001b[38;5;241m.\u001b[39mdrop_duplicates(subset\u001b[38;5;241m=\u001b[39m[\u001b[38;5;124m'\u001b[39m\u001b[38;5;124msource\u001b[39m\u001b[38;5;124m'\u001b[39m, \u001b[38;5;124m'\u001b[39m\u001b[38;5;124mid\u001b[39m\u001b[38;5;124m'\u001b[39m], keep\u001b[38;5;241m=\u001b[39m\u001b[38;5;124m'\u001b[39m\u001b[38;5;124mlast\u001b[39m\u001b[38;5;124m'\u001b[39m)\n",
      "\u001b[0;31mNameError\u001b[0m: name 'significant_distances' is not defined"
     ]
    }
   ],
   "source": [
    "data = pd.concat([\n",
    "    data,\n",
    "    significant_distances,\n",
    "    amenities[important_amenities]\n",
    "], axis = 1)\n",
    "data = data.drop_duplicates(subset=['source', 'id'], keep='last')"
   ]
  },
  {
   "cell_type": "code",
   "execution_count": 40,
   "id": "3d627dad",
   "metadata": {},
   "outputs": [],
   "source": [
    "data.to_csv(\"../processed_data/data.csv\")"
   ]
  },
  {
   "cell_type": "code",
   "execution_count": null,
   "id": "20294c67",
   "metadata": {},
   "outputs": [],
   "source": []
  }
 ],
 "metadata": {
  "kernelspec": {
   "display_name": "Python 3 (ipykernel)",
   "language": "python",
   "name": "python3"
  },
  "language_info": {
   "codemirror_mode": {
    "name": "ipython",
    "version": 3
   },
   "file_extension": ".py",
   "mimetype": "text/x-python",
   "name": "python",
   "nbconvert_exporter": "python",
   "pygments_lexer": "ipython3",
   "version": "3.9.13"
  }
 },
 "nbformat": 4,
 "nbformat_minor": 5
}
