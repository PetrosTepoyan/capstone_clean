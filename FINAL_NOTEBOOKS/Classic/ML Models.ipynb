{
 "cells": [
  {
   "cell_type": "code",
   "execution_count": 160,
   "id": "473ae0eb",
   "metadata": {},
   "outputs": [],
   "source": [
    "import seaborn as sns\n",
    "import pandas as pd\n",
    "import numpy as np\n",
    "from sklearn.model_selection import train_test_split\n",
    "from sklearn.metrics import mean_absolute_error, r2_score\n",
    "from sklearn.linear_model import LinearRegression, Ridge, Lasso, ElasticNet, BayesianRidge\n",
    "from sklearn.tree import DecisionTreeRegressor\n",
    "from sklearn.ensemble import RandomForestRegressor\n",
    "from sklearn.svm import SVR\n",
    "from sklearn.neighbors import KNeighborsRegressor\n",
    "from xgboost import XGBRegressor\n",
    "from sklearn.model_selection import GridSearchCV\n",
    "from sklearn.preprocessing import PolynomialFeatures, StandardScaler\n",
    "# Assuming X_train, X_test, y_train\n",
    "\n",
    "\n",
    "data = pd.read_csv(\"../../data2/data.csv\").drop(columns = [\n",
    "    \"source\", \"id\",\n",
    "    \"latitude\", \"longitude\", \"SL_charbakh_subway\", \"SL_avan\", \"SL_massiv\"\n",
    "])"
   ]
  },
  {
   "cell_type": "code",
   "execution_count": 161,
   "id": "7407e97d",
   "metadata": {},
   "outputs": [
    {
     "name": "stdout",
     "output_type": "stream",
     "text": [
      "                              Feature1                           Feature2  \\\n",
      "209                       new_building              building_type_Monolit   \n",
      "34                                area                              rooms   \n",
      "407                        SL_zvartnoc                SL_shengavit_subway   \n",
      "590           condition_Good Condition  condition_New/Excellent Condition   \n",
      "0                                price                               area   \n",
      "245                         F_Internet                        F_Furniture   \n",
      "387                           SL_opera               SL_baghramyan_subway   \n",
      "425                SL_central_cemetery                SL_shengavit_subway   \n",
      "37                                area                     bathroom_count   \n",
      "155                            storeys                building_type_Stone   \n",
      "270                   F_Heating System                        F_Furniture   \n",
      "386                           SL_opera                SL_central_cemetery   \n",
      "99                               floor                            storeys   \n",
      "490                              L_atm                          L_parking   \n",
      "475                         L_pharmacy                              L_atm   \n",
      "4                                price                     bathroom_count   \n",
      "428                SL_central_cemetery                          L_parking   \n",
      "390                           SL_opera                              L_atm   \n",
      "244                         F_Internet                   F_Heating System   \n",
      "69                               rooms                     bathroom_count   \n",
      "152                            storeys              building_type_Monolit   \n",
      "391                           SL_opera                          L_parking   \n",
      "520                           L_clinic                         L_hospital   \n",
      "131                            storeys                       new_building   \n",
      "268                         F_Internet  condition_New/Excellent Condition   \n",
      "212                       new_building                building_type_Stone   \n",
      "569              building_type_Monolit                building_type_Stone   \n",
      "1                                price                              rooms   \n",
      "218                         F_Elevator                   F_Heating System   \n",
      "219                         F_Elevator                        F_Furniture   \n",
      "392                           SL_opera                           L_clinic   \n",
      "519                           L_clinic                     L_kindergarten   \n",
      "357                          F_Balcony                building_type_Other   \n",
      "427                SL_central_cemetery                              L_atm   \n",
      "491                              L_atm                           L_clinic   \n",
      "125                              floor                building_type_Stone   \n",
      "589           condition_Good Condition  condition_Needs Renovation/Repair   \n",
      "211                       new_building                building_type_Panel   \n",
      "567              building_type_Monolit                building_type_Other   \n",
      "568              building_type_Monolit                building_type_Panel   \n",
      "317                        F_Furniture  condition_New/Excellent Condition   \n",
      "239                         F_Elevator                building_type_Stone   \n",
      "266                         F_Internet           condition_Good Condition   \n",
      "480                         L_pharmacy                     L_kindergarten   \n",
      "217                         F_Elevator                         F_Internet   \n",
      "477                         L_pharmacy                           L_clinic   \n",
      "550                     L_kindergarten                         L_hospital   \n",
      "592  condition_Needs Renovation/Repair  condition_New/Excellent Condition   \n",
      "213                       new_building           condition_Good Condition   \n",
      "461                SL_shengavit_subway                          L_parking   \n",
      "406                        SL_zvartnoc               SL_baghramyan_subway   \n",
      "248                         F_Internet                  F_Air Conditioner   \n",
      "388                           SL_opera                SL_shengavit_subway   \n",
      "541                       L_university                         L_hospital   \n",
      "13                               price                           SL_opera   \n",
      "28                               price                building_type_Panel   \n",
      "578                building_type_Other  condition_New/Excellent Condition   \n",
      "356                          F_Balcony              building_type_Monolit   \n",
      "122                              floor              building_type_Monolit   \n",
      "570              building_type_Monolit           condition_Good Condition   \n",
      "\n",
      "     Correlation  \n",
      "209     0.891065  \n",
      "34      0.770738  \n",
      "407     0.742968  \n",
      "590    -0.738618  \n",
      "0       0.681574  \n",
      "245     0.665170  \n",
      "387     0.657053  \n",
      "425     0.651659  \n",
      "37      0.640397  \n",
      "155    -0.622564  \n",
      "270     0.621291  \n",
      "386     0.607417  \n",
      "99      0.603257  \n",
      "490     0.545514  \n",
      "475     0.536188  \n",
      "4       0.535604  \n",
      "428    -0.520510  \n",
      "390    -0.515139  \n",
      "244     0.508895  \n",
      "69      0.505024  \n",
      "152     0.504633  \n",
      "391    -0.499495  \n",
      "520     0.495904  \n",
      "131     0.491281  \n",
      "268     0.482461  \n",
      "212    -0.481558  \n",
      "569    -0.479170  \n",
      "1       0.467925  \n",
      "218     0.454446  \n",
      "219     0.429440  \n",
      "392    -0.426578  \n",
      "519     0.424948  \n",
      "357     0.424593  \n",
      "427    -0.411650  \n",
      "491     0.397984  \n",
      "125    -0.388401  \n",
      "589    -0.385590  \n",
      "211    -0.361900  \n",
      "567    -0.358076  \n",
      "568    -0.356913  \n",
      "317     0.342194  \n",
      "239    -0.334120  \n",
      "266    -0.331314  \n",
      "480     0.324661  \n",
      "217     0.322354  \n",
      "477     0.320420  \n",
      "550     0.316390  \n",
      "592    -0.311277  \n",
      "213    -0.309293  \n",
      "461    -0.301475  \n",
      "406     0.299499  \n",
      "248     0.298370  \n",
      "388     0.298324  \n",
      "541     0.296489  \n",
      "13     -0.294692  \n",
      "28     -0.292724  \n",
      "578    -0.291203  \n",
      "356    -0.288866  \n",
      "122     0.286294  \n",
      "570    -0.285820  \n"
     ]
    }
   ],
   "source": [
    "# Flatten the correlation matrix and reset index\n",
    "correlation_matrix = data.corr()\n",
    "correlation_flat = correlation_matrix.where(np.triu(np.ones(correlation_matrix.shape), k=1).astype(bool)).stack().reset_index()\n",
    "\n",
    "correlation_flat.columns = ['Feature1', 'Feature2', 'Correlation']\n",
    "\n",
    "# Sort by absolute correlation values in descending order\n",
    "correlation_flat['AbsCorrelation'] = correlation_flat['Correlation'].abs()\n",
    "sorted_correlations = correlation_flat.sort_values(by='AbsCorrelation', ascending=False)\n",
    "\n",
    "# Select top 10 correlated pairs\n",
    "top_10_correlated_pairs = sorted_correlations.head(60)\n",
    "top_10_correlated_pairs = top_10_correlated_pairs.drop('AbsCorrelation', axis=1)\n",
    "\n",
    "print(top_10_correlated_pairs)\n"
   ]
  },
  {
   "cell_type": "code",
   "execution_count": 162,
   "id": "f3cb725f",
   "metadata": {},
   "outputs": [],
   "source": [
    "X = data.drop('price', axis=1)\n",
    "y = data['price']\n",
    "\n",
    "# Split the data into train and test sets\n",
    "X_train, X_test, y_train, y_test = train_test_split(X, y, test_size=0.2, random_state=42)"
   ]
  },
  {
   "cell_type": "code",
   "execution_count": 163,
   "id": "a9525b6f",
   "metadata": {},
   "outputs": [
    {
     "name": "stderr",
     "output_type": "stream",
     "text": [
      "/Users/petrostepoyan/opt/anaconda3/lib/python3.9/site-packages/sklearn/linear_model/_coordinate_descent.py:631: ConvergenceWarning: Objective did not converge. You might want to increase the number of iterations, check the scale of the features or consider increasing regularisation. Duality gap: 1.830e+11, tolerance: 2.684e+09\n",
      "  model = cd_fast.enet_coordinate_descent(\n"
     ]
    },
    {
     "data": {
      "text/html": [
       "<div>\n",
       "<style scoped>\n",
       "    .dataframe tbody tr th:only-of-type {\n",
       "        vertical-align: middle;\n",
       "    }\n",
       "\n",
       "    .dataframe tbody tr th {\n",
       "        vertical-align: top;\n",
       "    }\n",
       "\n",
       "    .dataframe thead th {\n",
       "        text-align: right;\n",
       "    }\n",
       "</style>\n",
       "<table border=\"1\" class=\"dataframe\">\n",
       "  <thead>\n",
       "    <tr style=\"text-align: right;\">\n",
       "      <th></th>\n",
       "      <th>Model</th>\n",
       "      <th>Mean Absolute Error</th>\n",
       "      <th>R2 Score</th>\n",
       "    </tr>\n",
       "  </thead>\n",
       "  <tbody>\n",
       "    <tr>\n",
       "      <th>3</th>\n",
       "      <td>XGBoost</td>\n",
       "      <td>39904.261500</td>\n",
       "      <td>0.760666</td>\n",
       "    </tr>\n",
       "    <tr>\n",
       "      <th>2</th>\n",
       "      <td>Random Forest</td>\n",
       "      <td>41247.893518</td>\n",
       "      <td>0.725612</td>\n",
       "    </tr>\n",
       "    <tr>\n",
       "      <th>6</th>\n",
       "      <td>Ridge</td>\n",
       "      <td>54653.634731</td>\n",
       "      <td>0.636272</td>\n",
       "    </tr>\n",
       "    <tr>\n",
       "      <th>7</th>\n",
       "      <td>Lasso</td>\n",
       "      <td>54658.570407</td>\n",
       "      <td>0.636187</td>\n",
       "    </tr>\n",
       "    <tr>\n",
       "      <th>0</th>\n",
       "      <td>Linear Regression</td>\n",
       "      <td>54659.490380</td>\n",
       "      <td>0.636184</td>\n",
       "    </tr>\n",
       "    <tr>\n",
       "      <th>9</th>\n",
       "      <td>Bayesian Ridge</td>\n",
       "      <td>54527.613682</td>\n",
       "      <td>0.636123</td>\n",
       "    </tr>\n",
       "    <tr>\n",
       "      <th>8</th>\n",
       "      <td>Elastic Net</td>\n",
       "      <td>56576.920800</td>\n",
       "      <td>0.607954</td>\n",
       "    </tr>\n",
       "    <tr>\n",
       "      <th>1</th>\n",
       "      <td>Decision Tree</td>\n",
       "      <td>53388.483061</td>\n",
       "      <td>0.529012</td>\n",
       "    </tr>\n",
       "    <tr>\n",
       "      <th>5</th>\n",
       "      <td>KNN</td>\n",
       "      <td>60799.187617</td>\n",
       "      <td>0.512358</td>\n",
       "    </tr>\n",
       "  </tbody>\n",
       "</table>\n",
       "</div>"
      ],
      "text/plain": [
       "               Model  Mean Absolute Error  R2 Score\n",
       "3            XGBoost         39904.261500  0.760666\n",
       "2      Random Forest         41247.893518  0.725612\n",
       "6              Ridge         54653.634731  0.636272\n",
       "7              Lasso         54658.570407  0.636187\n",
       "0  Linear Regression         54659.490380  0.636184\n",
       "9     Bayesian Ridge         54527.613682  0.636123\n",
       "8        Elastic Net         56576.920800  0.607954\n",
       "1      Decision Tree         53388.483061  0.529012\n",
       "5                KNN         60799.187617  0.512358"
      ]
     },
     "execution_count": 163,
     "metadata": {},
     "output_type": "execute_result"
    }
   ],
   "source": [
    "models = {\n",
    "    \"Linear Regression\": LinearRegression(),\n",
    "    \"Decision Tree\": DecisionTreeRegressor(),\n",
    "    \"Random Forest\": RandomForestRegressor(),\n",
    "    \"XGBoost\": XGBRegressor(),\n",
    "    \"SVM\": SVR(),\n",
    "    \"KNN\": KNeighborsRegressor(),\n",
    "    \"Ridge\": Ridge(),\n",
    "    \"Lasso\": Lasso(),\n",
    "    \"Elastic Net\": ElasticNet(),\n",
    "    \"Bayesian Ridge\": BayesianRidge()\n",
    "}\n",
    "\n",
    "results = []\n",
    "models_fitted = {}\n",
    "for name, model in models.items():\n",
    "    model.fit(X_train, y_train)\n",
    "    predictions = model.predict(X_test)\n",
    "    mae = mean_absolute_error(y_test, predictions)\n",
    "    r2 = r2_score(y_test, predictions)\n",
    "    results.append({\"Model\": name, \"Mean Absolute Error\": mae, \"R2 Score\": r2})\n",
    "    models_fitted[name] = model\n",
    "\n",
    "results_df = pd.DataFrame(results)\n",
    "results_df = results_df.sort_values(by='R2 Score', ascending=True)\n",
    "results_df = results_df[results_df[\"R2 Score\"] > 0.5]\n",
    "results_df"
   ]
  },
  {
   "cell_type": "code",
   "execution_count": 182,
   "id": "9a8b4c26",
   "metadata": {},
   "outputs": [
    {
     "name": "stderr",
     "output_type": "stream",
     "text": [
      "/var/folders/67/47xpns1s0zn6h8g8npsy5_q80000gn/T/ipykernel_20093/2243014811.py:16: UserWarning: FixedFormatter should only be used together with FixedLocator\n",
      "  ax1.set_xticklabels(df['Model'], rotation=45, ha='right')\n"
     ]
    },
    {
     "data": {
      "image/png": "[encoded data removed]",
      "text/plain": [
       "<Figure size 1000x600 with 1 Axes>"
      ]
     },
     "metadata": {},
     "output_type": "display_data"
    }
   ],
   "source": [
    "import matplotlib.pyplot as plt\n",
    "# Plot settings\n",
    "df = results_df\n",
    "plt.style.use('ggplot')\n",
    "fig, ax1 = plt.subplots(figsize=(10, 6))\n",
    "\n",
    "# Plotting MAE with a bar chart\n",
    "mae_bars = ax1.bar(df['Model'], df['Mean Absolute Error'], color='skyblue', alpha=0.6, label='Mean Absolute Error')\n",
    "\n",
    "# Make the y-axis label and tick labels match the line color.\n",
    "ax1.set_ylabel('Mean Absolute Error')\n",
    "# for tl in ax1.get_yticklabels():\n",
    "#     tl.set_color('skyblue')\n",
    "\n",
    "# Setting the x-axis labels\n",
    "ax1.set_xticklabels(df['Model'], rotation=45, ha='right')\n",
    "\n",
    "\n",
    "# Title and legend\n",
    "plt.title('Comparison of Machine Learning Models')\n",
    "ax1.legend(loc='upper left')\n",
    "\n",
    "# Show plot\n",
    "plt.tight_layout()\n",
    "plt.savefig(\"../../visualizations/comparison_of_ML.png\", dpi=800)\n",
    "plt.show()"
   ]
  },
  {
   "cell_type": "code",
   "execution_count": 164,
   "id": "7679f6df",
   "metadata": {},
   "outputs": [
    {
     "data": {
      "text/plain": [
       "0.7405479760084956"
      ]
     },
     "execution_count": 164,
     "metadata": {},
     "output_type": "execute_result"
    }
   ],
   "source": [
    "param_grid = {\n",
    "    'n_estimators': [100, 200],\n",
    "    'max_features': ['auto', 'sqrt', 'log2'],\n",
    "    'max_depth': [10, 20, 30, 40, 50, None],\n",
    "    'min_samples_split': [2, 5, 10],\n",
    "    'min_samples_leaf': [1, 2, 4],\n",
    "    'bootstrap': [True, False]\n",
    "}\n",
    "\n",
    "\n",
    "rf_grid = GridSearchCV(RandomForestRegressor(n_jobs=-1), rf_params, cv=3, scoring='r2')\n",
    "rf_grid.fit(X_train, y_train)\n",
    "rf_grid.score(X_test, y_test)"
   ]
  },
  {
   "cell_type": "code",
   "execution_count": 165,
   "id": "3e50be54",
   "metadata": {},
   "outputs": [
    {
     "data": {
      "text/plain": [
       "0.7445304035612668"
      ]
     },
     "execution_count": 165,
     "metadata": {},
     "output_type": "execute_result"
    }
   ],
   "source": [
    "xgb_grid = {\n",
    "    'n_estimators': [100, 200, 300, 400, 500],\n",
    "    'learning_rate': [0.01, 0.05, 0.1],\n",
    "    'max_depth': [3, 5, 7, 9, 15],\n",
    "    'min_child_weight': [1, 3, 5, 7],\n",
    "    'gamma': [0, 0.1, 0.2],\n",
    "    'subsample': [0.6, 0.8, 1.0],\n",
    "    'colsample_bytree': [0.6, 0.8, 1.0]\n",
    "}\n",
    "xgb_grid = GridSearchCV(XGBRegressor(), xgb_params, cv=3, scoring='r2')\n",
    "xgb_grid.fit(X_train, y_train)\n",
    "xgb_grid.score(X_test, y_test)"
   ]
  },
  {
   "cell_type": "code",
   "execution_count": 166,
   "id": "ac3b8f7b",
   "metadata": {},
   "outputs": [
    {
     "data": {
      "text/plain": [
       "0.5603527345911732"
      ]
     },
     "execution_count": 166,
     "metadata": {},
     "output_type": "execute_result"
    }
   ],
   "source": [
    "knn_params = {\n",
    "    'n_neighbors': [3, 5, 7, 10],\n",
    "    'weights': ['uniform', 'distance'],\n",
    "    \"leaf_size\": [30, 35, 50, 100]\n",
    "}\n",
    "\n",
    "knn_grid = GridSearchCV(KNeighborsRegressor(), knn_params, cv=3, scoring='r2')\n",
    "knn_grid.fit(X_train, y_train)\n",
    "knn_grid.score(X_test, y_test)"
   ]
  },
  {
   "cell_type": "code",
   "execution_count": 167,
   "id": "1777da62",
   "metadata": {},
   "outputs": [
    {
     "data": {
      "text/plain": [
       "0.6485038322312445"
      ]
     },
     "execution_count": 167,
     "metadata": {},
     "output_type": "execute_result"
    }
   ],
   "source": [
    "dt_params = {\n",
    "    'max_depth': [10, 20, 30],\n",
    "    'min_samples_leaf': [1, 2, 4]\n",
    "}\n",
    "\n",
    "dt_grid = GridSearchCV(DecisionTreeRegressor(), dt_params, cv=3, scoring='r2')\n",
    "dt_grid.fit(X_train, y_train)\n",
    "dt_grid.score(X_test, y_test)"
   ]
  },
  {
   "cell_type": "markdown",
   "id": "432a657b",
   "metadata": {},
   "source": [
    "# Linear Regression"
   ]
  },
  {
   "cell_type": "code",
   "execution_count": 66,
   "id": "4d66c506",
   "metadata": {},
   "outputs": [],
   "source": [
    "# Generate all interaction terms\n",
    "poly = PolynomialFeatures(degree=2, interaction_only=True, include_bias=False)\n",
    "X_interactions = poly.fit_transform(X)\n",
    "\n",
    "# Split the data\n",
    "X_train, X_test, y_train, y_test = train_test_split(X_interactions, y, test_size=0.1, random_state=42)\n",
    "\n",
    "# # Train a linear regression model\n",
    "# model = LinearRegression()\n",
    "# model.fit(X_train, y_train)\n",
    "\n",
    "# # Make predictions and evaluate the model\n",
    "# predictions = model.predict(X_test)\n",
    "# mae = mean_absolute_error(y_test, predictions)\n",
    "# r2 = r2_score(y_test, predictions)\n",
    "\n",
    "# # Output the performance metrics\n",
    "# print(\"Mean Absolute Error:\", mae)\n",
    "# print(\"R2 Score:\", r2)"
   ]
  },
  {
   "cell_type": "code",
   "execution_count": 137,
   "id": "a82bf56a",
   "metadata": {},
   "outputs": [
    {
     "data": {
      "text/plain": [
       "0.7493273783250951"
      ]
     },
     "execution_count": 137,
     "metadata": {},
     "output_type": "execute_result"
    }
   ],
   "source": [
    "xgb = XGBRegressor()\n",
    "xgb.fit(X_train, y_train)\n",
    "xgb.score(X_test, y_test)"
   ]
  },
  {
   "cell_type": "code",
   "execution_count": 138,
   "id": "343ed61d",
   "metadata": {},
   "outputs": [
    {
     "data": {
      "text/plain": [
       "0.7358221302091024"
      ]
     },
     "execution_count": 138,
     "metadata": {},
     "output_type": "execute_result"
    }
   ],
   "source": [
    "rf = RandomForestRegressor()\n",
    "rf.fit(X_train, y_train)\n",
    "rf.score(X_test, y_test)"
   ]
  },
  {
   "cell_type": "code",
   "execution_count": 75,
   "id": "b3ffa006",
   "metadata": {},
   "outputs": [
    {
     "data": {
      "text/plain": [
       "49495.42101793249"
      ]
     },
     "execution_count": 75,
     "metadata": {},
     "output_type": "execute_result"
    }
   ],
   "source": [
    "mean_absolute_error(xgb.predict(X_test), y_test)"
   ]
  },
  {
   "cell_type": "code",
   "execution_count": 116,
   "id": "2974eaa3",
   "metadata": {},
   "outputs": [
    {
     "name": "stderr",
     "output_type": "stream",
     "text": [
      "/Users/petrostepoyan/opt/anaconda3/lib/python3.9/site-packages/sklearn/utils/validation.py:1143: DataConversionWarning: A column-vector y was passed when a 1d array was expected. Please change the shape of y to (n_samples, ), for example using ravel().\n",
      "  y = column_or_1d(y, warn=True)\n"
     ]
    },
    {
     "name": "stdout",
     "output_type": "stream",
     "text": [
      "Root Mean Squared Error: 0.6562953547746225\n"
     ]
    }
   ],
   "source": [
    "scaler = StandardScaler()\n",
    "\n",
    "X_train_scaled = scaler.fit_transform(X_train)\n",
    "X_test_scaled = scaler.transform(X_test)\n",
    "\n",
    "scaler = StandardScaler()\n",
    "y_train_scaled = scaler.fit_transform(y_train.to_numpy().reshape(-1, 1))\n",
    "y_test_scaled = scaler.transform(y_test.to_numpy().reshape(-1, 1))\n",
    "\n",
    "# Step 2: Fit the SVR model\n",
    "svr = SVR(kernel='linear', C=1.0)  # You can choose a different kernel and C value if needed\n",
    "svr.fit(X_train_scaled, y_train_scaled)\n",
    "\n",
    "# Step 3: Make predictions\n",
    "y_pred = svr.predict(X_test_scaled)\n",
    "\n",
    "# Step 4: Evaluate the model (you can use any regression metric you prefer)\n",
    "mse = mean_absolute_error(y_test_scaled, y_pred)\n",
    "rmse = np.sqrt(mse)\n",
    "\n",
    "print(\"Root Mean Squared Error:\", rmse)"
   ]
  },
  {
   "cell_type": "code",
   "execution_count": null,
   "id": "56170e83",
   "metadata": {},
   "outputs": [],
   "source": []
  }
 ],
 "metadata": {
  "kernelspec": {
   "display_name": "Python 3 (ipykernel)",
   "language": "python",
   "name": "python3"
  },
  "language_info": {
   "codemirror_mode": {
    "name": "ipython",
    "version": 3
   },
   "file_extension": ".py",
   "mimetype": "text/x-python",
   "name": "python",
   "nbconvert_exporter": "python",
   "pygments_lexer": "ipython3",
   "version": "3.9.13"
  }
 },
 "nbformat": 4,
 "nbformat_minor": 5
}
