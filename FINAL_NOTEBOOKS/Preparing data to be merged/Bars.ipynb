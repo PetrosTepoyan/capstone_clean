{
 "cells": [
  {
   "cell_type": "code",
   "execution_count": 157,
   "id": "b1397f4f",
   "metadata": {},
   "outputs": [
    {
     "name": "stdout",
     "output_type": "stream",
     "text": [
      "The autoreload extension is already loaded. To reload it, use:\n",
      "  %reload_ext autoreload\n"
     ]
    }
   ],
   "source": [
    "%load_ext autoreload\n",
    "%autoreload 2\n",
    "import sys\n",
    "sys.path.append(\"..\")\n",
    "\n",
    "import pandas as pd\n",
    "import json\n",
    "import numpy as np\n",
    "import re\n",
    "import ast\n",
    "from utils.dummies import dummify_columns"
   ]
  },
  {
   "cell_type": "code",
   "execution_count": 158,
   "id": "f364e844",
   "metadata": {},
   "outputs": [],
   "source": [
    "with open(\"../config.json\", 'r') as file:\n",
    "    config = json.load(file)\n",
    "    building_type_mapping = config[\"building_type_mapping\"]\n",
    "    for key in building_type_mapping:\n",
    "        building_type_mapping[key][None] = \"Other\"\n",
    "        \n",
    "    commong_features = set(config[\"COMMON_FEATURES\"])\n",
    "    feature_mapping = config[\"feature_mapping\"][\"bars\"]\n",
    "    condition_mapping = config[\"condition_type_mapping\"][\"bars\"]"
   ]
  },
  {
   "cell_type": "markdown",
   "id": "4d0979f5",
   "metadata": {},
   "source": [
    "### Basic Cleaning"
   ]
  },
  {
   "cell_type": "code",
   "execution_count": 159,
   "id": "ec7e86e3",
   "metadata": {},
   "outputs": [
    {
     "data": {
      "text/html": [
       "<div>\n",
       "<style scoped>\n",
       "    .dataframe tbody tr th:only-of-type {\n",
       "        vertical-align: middle;\n",
       "    }\n",
       "\n",
       "    .dataframe tbody tr th {\n",
       "        vertical-align: top;\n",
       "    }\n",
       "\n",
       "    .dataframe thead th {\n",
       "        text-align: right;\n",
       "    }\n",
       "</style>\n",
       "<table border=\"1\" class=\"dataframe\">\n",
       "  <thead>\n",
       "    <tr style=\"text-align: right;\">\n",
       "      <th></th>\n",
       "      <th>source</th>\n",
       "      <th>id</th>\n",
       "      <th>price</th>\n",
       "      <th>facilities</th>\n",
       "      <th>location</th>\n",
       "      <th>area</th>\n",
       "      <th>rooms</th>\n",
       "      <th>floor</th>\n",
       "      <th>storeys</th>\n",
       "      <th>building_type</th>\n",
       "      <th>condition</th>\n",
       "      <th>bathroom_count</th>\n",
       "      <th>bedrooms</th>\n",
       "      <th>new_building</th>\n",
       "    </tr>\n",
       "  </thead>\n",
       "  <tbody>\n",
       "    <tr>\n",
       "      <th>0</th>\n",
       "      <td>bars</td>\n",
       "      <td>4-3-1430</td>\n",
       "      <td>130000</td>\n",
       "      <td>[]</td>\n",
       "      <td>Yerevan/Arabkir/Hambardzumyan Street</td>\n",
       "      <td>60.5</td>\n",
       "      <td>2.0</td>\n",
       "      <td>3.0</td>\n",
       "      <td>13.0</td>\n",
       "      <td>Other</td>\n",
       "      <td>Needs Renovation/Repair</td>\n",
       "      <td>1.0</td>\n",
       "      <td>1.0</td>\n",
       "      <td>1</td>\n",
       "    </tr>\n",
       "    <tr>\n",
       "      <th>1</th>\n",
       "      <td>bars</td>\n",
       "      <td>4-3-1430.1</td>\n",
       "      <td>215000</td>\n",
       "      <td>[]</td>\n",
       "      <td>Yerevan/Arabkir/Hambardzumyan Street</td>\n",
       "      <td>96.1</td>\n",
       "      <td>3.0</td>\n",
       "      <td>4.0</td>\n",
       "      <td>13.0</td>\n",
       "      <td>Other</td>\n",
       "      <td>Needs Renovation/Repair</td>\n",
       "      <td>2.0</td>\n",
       "      <td>2.0</td>\n",
       "      <td>1</td>\n",
       "    </tr>\n",
       "    <tr>\n",
       "      <th>2</th>\n",
       "      <td>bars</td>\n",
       "      <td>1-N-432</td>\n",
       "      <td>560000</td>\n",
       "      <td>[First line, Building service, Building securi...</td>\n",
       "      <td>Yerevan/Small Center/Sayat-Nova  Avenue</td>\n",
       "      <td>156.4</td>\n",
       "      <td>4.0</td>\n",
       "      <td>9.0</td>\n",
       "      <td>17.0</td>\n",
       "      <td>Other</td>\n",
       "      <td>Good Condition</td>\n",
       "      <td>2.0</td>\n",
       "      <td>3.0</td>\n",
       "      <td>0</td>\n",
       "    </tr>\n",
       "  </tbody>\n",
       "</table>\n",
       "</div>"
      ],
      "text/plain": [
       "  source          id   price  \\\n",
       "0   bars    4-3-1430  130000   \n",
       "1   bars  4-3-1430.1  215000   \n",
       "2   bars     1-N-432  560000   \n",
       "\n",
       "                                          facilities  \\\n",
       "0                                                 []   \n",
       "1                                                 []   \n",
       "2  [First line, Building service, Building securi...   \n",
       "\n",
       "                                  location   area  rooms  floor  storeys  \\\n",
       "0     Yerevan/Arabkir/Hambardzumyan Street   60.5    2.0    3.0     13.0   \n",
       "1     Yerevan/Arabkir/Hambardzumyan Street   96.1    3.0    4.0     13.0   \n",
       "2  Yerevan/Small Center/Sayat-Nova  Avenue  156.4    4.0    9.0     17.0   \n",
       "\n",
       "  building_type                condition  bathroom_count  bedrooms  \\\n",
       "0         Other  Needs Renovation/Repair             1.0       1.0   \n",
       "1         Other  Needs Renovation/Repair             2.0       2.0   \n",
       "2         Other           Good Condition             2.0       3.0   \n",
       "\n",
       "   new_building  \n",
       "0             1  \n",
       "1             1  \n",
       "2             0  "
      ]
     },
     "execution_count": 159,
     "metadata": {},
     "output_type": "execute_result"
    }
   ],
   "source": [
    "bars = pd.read_csv(\"../scraping_results/data/bars_apartments.csv\")\n",
    "bars = bars.dropna(axis = 1, how=\"all\") # remove all NaN columns \n",
    "bars['facilities'] = bars['facilities'].apply(ast.literal_eval)\n",
    "\n",
    "new_buildings = (bars[\"building_type\"] == \"New building\") & (bars[\"condition\"] == \"Without renovation\")\n",
    "new_buildings = new_buildings.apply(lambda x: 1 if x else 0)\n",
    "bars[\"new_building\"] = new_buildings\n",
    "\n",
    "bars[\"building_type\"] = bars[\"building_type\"]\\\n",
    "    .map(building_type_mapping[\"bars\"])\\\n",
    "    .fillna(\"Other\")\n",
    "\n",
    "bars[\"condition\"] = bars[\"condition\"]\\\n",
    "    .map(condition_mapping)\\\n",
    "    .fillna(\"Other\")\n",
    "\n",
    "bars = bars.drop(columns = [\"webpage\", \"ceiling_height\"])\n",
    "bars.head(3)"
   ]
  },
  {
   "cell_type": "markdown",
   "id": "c2b8088e",
   "metadata": {},
   "source": [
    "### Dummifying Facilities"
   ]
  },
  {
   "cell_type": "code",
   "execution_count": 160,
   "id": "d53466d0",
   "metadata": {},
   "outputs": [],
   "source": [
    "f_feature_list = []\n",
    "for feature_list in bars[\"facilities\"].to_list():\n",
    "    feature_list = [feature_mapping[feature] for feature in feature_list if feature in feature_mapping]\n",
    "    feature_list = [feature for feature in feature_list if feature in commong_features]\n",
    "    f_feature_list.append(feature_list)\n",
    "\n",
    "bars[\"facilities\"] = f_feature_list\n",
    "bars = dummify_columns(bars, [\"facilities\"], commong_features)"
   ]
  },
  {
   "cell_type": "code",
   "execution_count": 161,
   "id": "52ecce45",
   "metadata": {},
   "outputs": [],
   "source": [
    "bars = bars.drop(columns = [\"bedrooms\"])\n",
    "bars = bars.dropna()"
   ]
  },
  {
   "cell_type": "code",
   "execution_count": 162,
   "id": "0f032d87",
   "metadata": {},
   "outputs": [
    {
     "name": "stdout",
     "output_type": "stream",
     "text": [
      "<class 'pandas.core.frame.DataFrame'>\n",
      "Int64Index: 538 entries, 0 to 552\n",
      "Data columns (total 19 columns):\n",
      " #   Column             Non-Null Count  Dtype  \n",
      "---  ------             --------------  -----  \n",
      " 0   source             538 non-null    object \n",
      " 1   id                 538 non-null    object \n",
      " 2   price              538 non-null    int64  \n",
      " 3   location           538 non-null    object \n",
      " 4   area               538 non-null    float64\n",
      " 5   rooms              538 non-null    float64\n",
      " 6   floor              538 non-null    float64\n",
      " 7   storeys            538 non-null    float64\n",
      " 8   building_type      538 non-null    object \n",
      " 9   condition          538 non-null    object \n",
      " 10  bathroom_count     538 non-null    float64\n",
      " 11  new_building       538 non-null    int64  \n",
      " 12  F_Furniture        538 non-null    int64  \n",
      " 13  F_Security         538 non-null    int64  \n",
      " 14  F_Air Conditioner  538 non-null    int64  \n",
      " 15  F_Balcony          538 non-null    int64  \n",
      " 16  F_Heating System   538 non-null    int64  \n",
      " 17  F_Internet         538 non-null    int64  \n",
      " 18  F_Elevator         538 non-null    int64  \n",
      "dtypes: float64(5), int64(9), object(5)\n",
      "memory usage: 84.1+ KB\n"
     ]
    }
   ],
   "source": [
    "bars.info()"
   ]
  },
  {
   "cell_type": "code",
   "execution_count": 170,
   "id": "8d97a2df",
   "metadata": {},
   "outputs": [],
   "source": [
    "bars[\"location\"] = bars[\"location\"]\\\n",
    "    .apply(lambda text: re.sub(r\"\\(.*?\\)\", \"\", text).strip())\\\n",
    "    .apply(lambda x: x.split(\"/\")[-1])"
   ]
  },
  {
   "cell_type": "code",
   "execution_count": 172,
   "id": "608b4034",
   "metadata": {},
   "outputs": [],
   "source": [
    "from Services import GeoService, MapFeatureAggregator, AddressToCoordinateConverter"
   ]
  },
  {
   "cell_type": "code",
   "execution_count": 173,
   "id": "e19bff15",
   "metadata": {},
   "outputs": [],
   "source": [
    "bars['location'] = bars['location'].apply(myrealty_format_address)\n",
    "converter = AddressToCoordinateConverter(\"../Data Manipulation | Notebooks/streets.csv\")\n",
    "bars[\"coordinates\"] = bars[\"location\"].apply(converter.convert)"
   ]
  },
  {
   "cell_type": "code",
   "execution_count": 175,
   "id": "85f58694",
   "metadata": {
    "scrolled": true
   },
   "outputs": [
    {
     "ename": "KeyError",
     "evalue": "'coordinates'",
     "output_type": "error",
     "traceback": [
      "\u001b[0;31m---------------------------------------------------------------------------\u001b[0m",
      "\u001b[0;31mKeyError\u001b[0m                                  Traceback (most recent call last)",
      "File \u001b[0;32m~/opt/anaconda3/lib/python3.9/site-packages/pandas/core/indexes/base.py:3629\u001b[0m, in \u001b[0;36mIndex.get_loc\u001b[0;34m(self, key, method, tolerance)\u001b[0m\n\u001b[1;32m   3628\u001b[0m \u001b[38;5;28;01mtry\u001b[39;00m:\n\u001b[0;32m-> 3629\u001b[0m     \u001b[38;5;28;01mreturn\u001b[39;00m \u001b[38;5;28;43mself\u001b[39;49m\u001b[38;5;241;43m.\u001b[39;49m\u001b[43m_engine\u001b[49m\u001b[38;5;241;43m.\u001b[39;49m\u001b[43mget_loc\u001b[49m\u001b[43m(\u001b[49m\u001b[43mcasted_key\u001b[49m\u001b[43m)\u001b[49m\n\u001b[1;32m   3630\u001b[0m \u001b[38;5;28;01mexcept\u001b[39;00m \u001b[38;5;167;01mKeyError\u001b[39;00m \u001b[38;5;28;01mas\u001b[39;00m err:\n",
      "File \u001b[0;32m~/opt/anaconda3/lib/python3.9/site-packages/pandas/_libs/index.pyx:136\u001b[0m, in \u001b[0;36mpandas._libs.index.IndexEngine.get_loc\u001b[0;34m()\u001b[0m\n",
      "File \u001b[0;32m~/opt/anaconda3/lib/python3.9/site-packages/pandas/_libs/index.pyx:163\u001b[0m, in \u001b[0;36mpandas._libs.index.IndexEngine.get_loc\u001b[0;34m()\u001b[0m\n",
      "File \u001b[0;32mpandas/_libs/hashtable_class_helper.pxi:5198\u001b[0m, in \u001b[0;36mpandas._libs.hashtable.PyObjectHashTable.get_item\u001b[0;34m()\u001b[0m\n",
      "File \u001b[0;32mpandas/_libs/hashtable_class_helper.pxi:5206\u001b[0m, in \u001b[0;36mpandas._libs.hashtable.PyObjectHashTable.get_item\u001b[0;34m()\u001b[0m\n",
      "\u001b[0;31mKeyError\u001b[0m: 'coordinates'",
      "\nThe above exception was the direct cause of the following exception:\n",
      "\u001b[0;31mKeyError\u001b[0m                                  Traceback (most recent call last)",
      "Input \u001b[0;32mIn [175]\u001b[0m, in \u001b[0;36m<cell line: 1>\u001b[0;34m()\u001b[0m\n\u001b[0;32m----> 1\u001b[0m bars[\u001b[38;5;124m\"\u001b[39m\u001b[38;5;124mlatitude\u001b[39m\u001b[38;5;124m\"\u001b[39m] \u001b[38;5;241m=\u001b[39m \u001b[43mbars\u001b[49m\u001b[43m[\u001b[49m\u001b[38;5;124;43m\"\u001b[39;49m\u001b[38;5;124;43mcoordinates\u001b[39;49m\u001b[38;5;124;43m\"\u001b[39;49m\u001b[43m]\u001b[49m\u001b[38;5;241m.\u001b[39mapply(\u001b[38;5;28;01mlambda\u001b[39;00m x: x[\u001b[38;5;241m1\u001b[39m])\n\u001b[1;32m      2\u001b[0m bars[\u001b[38;5;124m\"\u001b[39m\u001b[38;5;124mlongitude\u001b[39m\u001b[38;5;124m\"\u001b[39m] \u001b[38;5;241m=\u001b[39m bars[\u001b[38;5;124m\"\u001b[39m\u001b[38;5;124mcoordinates\u001b[39m\u001b[38;5;124m\"\u001b[39m]\u001b[38;5;241m.\u001b[39mapply(\u001b[38;5;28;01mlambda\u001b[39;00m x: x[\u001b[38;5;241m0\u001b[39m])\n\u001b[1;32m      3\u001b[0m bars \u001b[38;5;241m=\u001b[39m bars\u001b[38;5;241m.\u001b[39mdrop(columns \u001b[38;5;241m=\u001b[39m [\u001b[38;5;124m\"\u001b[39m\u001b[38;5;124mcoordinates\u001b[39m\u001b[38;5;124m\"\u001b[39m, \u001b[38;5;124m\"\u001b[39m\u001b[38;5;124mlocation\u001b[39m\u001b[38;5;124m\"\u001b[39m])\n",
      "File \u001b[0;32m~/opt/anaconda3/lib/python3.9/site-packages/pandas/core/frame.py:3505\u001b[0m, in \u001b[0;36mDataFrame.__getitem__\u001b[0;34m(self, key)\u001b[0m\n\u001b[1;32m   3503\u001b[0m \u001b[38;5;28;01mif\u001b[39;00m \u001b[38;5;28mself\u001b[39m\u001b[38;5;241m.\u001b[39mcolumns\u001b[38;5;241m.\u001b[39mnlevels \u001b[38;5;241m>\u001b[39m \u001b[38;5;241m1\u001b[39m:\n\u001b[1;32m   3504\u001b[0m     \u001b[38;5;28;01mreturn\u001b[39;00m \u001b[38;5;28mself\u001b[39m\u001b[38;5;241m.\u001b[39m_getitem_multilevel(key)\n\u001b[0;32m-> 3505\u001b[0m indexer \u001b[38;5;241m=\u001b[39m \u001b[38;5;28;43mself\u001b[39;49m\u001b[38;5;241;43m.\u001b[39;49m\u001b[43mcolumns\u001b[49m\u001b[38;5;241;43m.\u001b[39;49m\u001b[43mget_loc\u001b[49m\u001b[43m(\u001b[49m\u001b[43mkey\u001b[49m\u001b[43m)\u001b[49m\n\u001b[1;32m   3506\u001b[0m \u001b[38;5;28;01mif\u001b[39;00m is_integer(indexer):\n\u001b[1;32m   3507\u001b[0m     indexer \u001b[38;5;241m=\u001b[39m [indexer]\n",
      "File \u001b[0;32m~/opt/anaconda3/lib/python3.9/site-packages/pandas/core/indexes/base.py:3631\u001b[0m, in \u001b[0;36mIndex.get_loc\u001b[0;34m(self, key, method, tolerance)\u001b[0m\n\u001b[1;32m   3629\u001b[0m     \u001b[38;5;28;01mreturn\u001b[39;00m \u001b[38;5;28mself\u001b[39m\u001b[38;5;241m.\u001b[39m_engine\u001b[38;5;241m.\u001b[39mget_loc(casted_key)\n\u001b[1;32m   3630\u001b[0m \u001b[38;5;28;01mexcept\u001b[39;00m \u001b[38;5;167;01mKeyError\u001b[39;00m \u001b[38;5;28;01mas\u001b[39;00m err:\n\u001b[0;32m-> 3631\u001b[0m     \u001b[38;5;28;01mraise\u001b[39;00m \u001b[38;5;167;01mKeyError\u001b[39;00m(key) \u001b[38;5;28;01mfrom\u001b[39;00m \u001b[38;5;21;01merr\u001b[39;00m\n\u001b[1;32m   3632\u001b[0m \u001b[38;5;28;01mexcept\u001b[39;00m \u001b[38;5;167;01mTypeError\u001b[39;00m:\n\u001b[1;32m   3633\u001b[0m     \u001b[38;5;66;03m# If we have a listlike key, _check_indexing_error will raise\u001b[39;00m\n\u001b[1;32m   3634\u001b[0m     \u001b[38;5;66;03m#  InvalidIndexError. Otherwise we fall through and re-raise\u001b[39;00m\n\u001b[1;32m   3635\u001b[0m     \u001b[38;5;66;03m#  the TypeError.\u001b[39;00m\n\u001b[1;32m   3636\u001b[0m     \u001b[38;5;28mself\u001b[39m\u001b[38;5;241m.\u001b[39m_check_indexing_error(key)\n",
      "\u001b[0;31mKeyError\u001b[0m: 'coordinates'"
     ]
    }
   ],
   "source": [
    "bars[\"latitude\"] = bars[\"coordinates\"].apply(lambda x: x[1])\n",
    "bars[\"longitude\"] = bars[\"coordinates\"].apply(lambda x: x[0])\n",
    "bars = bars.drop(columns = [\"coordinates\", \"location\"])"
   ]
  },
  {
   "cell_type": "code",
   "execution_count": 178,
   "id": "300c5d50",
   "metadata": {},
   "outputs": [],
   "source": [
    "bars.to_csv(\"../processed_data/bars.csv\")"
   ]
  },
  {
   "cell_type": "code",
   "execution_count": 177,
   "id": "2607e0c6",
   "metadata": {},
   "outputs": [
    {
     "name": "stdout",
     "output_type": "stream",
     "text": [
      "<class 'pandas.core.frame.DataFrame'>\n",
      "Int64Index: 538 entries, 0 to 552\n",
      "Data columns (total 20 columns):\n",
      " #   Column             Non-Null Count  Dtype  \n",
      "---  ------             --------------  -----  \n",
      " 0   source             538 non-null    object \n",
      " 1   id                 538 non-null    object \n",
      " 2   price              538 non-null    int64  \n",
      " 3   area               538 non-null    float64\n",
      " 4   rooms              538 non-null    float64\n",
      " 5   floor              538 non-null    float64\n",
      " 6   storeys            538 non-null    float64\n",
      " 7   building_type      538 non-null    object \n",
      " 8   condition          538 non-null    object \n",
      " 9   bathroom_count     538 non-null    float64\n",
      " 10  new_building       538 non-null    int64  \n",
      " 11  F_Furniture        538 non-null    int64  \n",
      " 12  F_Security         538 non-null    int64  \n",
      " 13  F_Air Conditioner  538 non-null    int64  \n",
      " 14  F_Balcony          538 non-null    int64  \n",
      " 15  F_Heating System   538 non-null    int64  \n",
      " 16  F_Internet         538 non-null    int64  \n",
      " 17  F_Elevator         538 non-null    int64  \n",
      " 18  latitude           538 non-null    float64\n",
      " 19  longitude          538 non-null    float64\n",
      "dtypes: float64(7), int64(9), object(4)\n",
      "memory usage: 88.3+ KB\n"
     ]
    }
   ],
   "source": [
    "bars.info()"
   ]
  },
  {
   "cell_type": "code",
   "execution_count": null,
   "id": "5ee016c9",
   "metadata": {},
   "outputs": [],
   "source": []
  }
 ],
 "metadata": {
  "kernelspec": {
   "display_name": "Python 3 (ipykernel)",
   "language": "python",
   "name": "python3"
  },
  "language_info": {
   "codemirror_mode": {
    "name": "ipython",
    "version": 3
   },
   "file_extension": ".py",
   "mimetype": "text/x-python",
   "name": "python",
   "nbconvert_exporter": "python",
   "pygments_lexer": "ipython3",
   "version": "3.9.13"
  }
 },
 "nbformat": 4,
 "nbformat_minor": 5
}
