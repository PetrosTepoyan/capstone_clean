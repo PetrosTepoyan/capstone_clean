{
 "cells": [
  {
   "cell_type": "code",
   "execution_count": 302,
   "id": "b1397f4f",
   "metadata": {},
   "outputs": [
    {
     "name": "stdout",
     "output_type": "stream",
     "text": [
      "The autoreload extension is already loaded. To reload it, use:\n",
      "  %reload_ext autoreload\n"
     ]
    }
   ],
   "source": [
    "%load_ext autoreload\n",
    "%autoreload 2\n",
    "import sys\n",
    "sys.path.append(\"..\")\n",
    "\n",
    "import pandas as pd\n",
    "import json\n",
    "import numpy as np\n",
    "import ast\n",
    "from utils.dummies import dummify_columns"
   ]
  },
  {
   "cell_type": "code",
   "execution_count": 303,
   "id": "f364e844",
   "metadata": {},
   "outputs": [],
   "source": [
    "with open(\"../config.json\", 'r') as file:\n",
    "    config = json.load(file)\n",
    "    building_type_mapping = config[\"building_type_mapping\"]\n",
    "    for key in building_type_mapping:\n",
    "        building_type_mapping[key][None] = \"Other\"\n",
    "        \n",
    "    commong_features = set(config[\"COMMON_FEATURES\"])\n",
    "    feature_mapping = config[\"feature_mapping\"][\"bnakaran\"]\n",
    "    condition_mapping = config[\"condition_type_mapping\"][\"bnakaran\"]"
   ]
  },
  {
   "cell_type": "markdown",
   "id": "c5405045",
   "metadata": {},
   "source": [
    "### Basic Cleaning"
   ]
  },
  {
   "cell_type": "code",
   "execution_count": 304,
   "id": "ec7e86e3",
   "metadata": {},
   "outputs": [
    {
     "data": {
      "text/html": [
       "<div>\n",
       "<style scoped>\n",
       "    .dataframe tbody tr th:only-of-type {\n",
       "        vertical-align: middle;\n",
       "    }\n",
       "\n",
       "    .dataframe tbody tr th {\n",
       "        vertical-align: top;\n",
       "    }\n",
       "\n",
       "    .dataframe thead th {\n",
       "        text-align: right;\n",
       "    }\n",
       "</style>\n",
       "<table border=\"1\" class=\"dataframe\">\n",
       "  <thead>\n",
       "    <tr style=\"text-align: right;\">\n",
       "      <th></th>\n",
       "      <th>source</th>\n",
       "      <th>id</th>\n",
       "      <th>price</th>\n",
       "      <th>area</th>\n",
       "      <th>rooms</th>\n",
       "      <th>floor</th>\n",
       "      <th>storeys</th>\n",
       "      <th>building_type</th>\n",
       "      <th>added_in_date</th>\n",
       "      <th>additional_features</th>\n",
       "      <th>...</th>\n",
       "      <th>room_details</th>\n",
       "      <th>longitude</th>\n",
       "      <th>flooring</th>\n",
       "      <th>entrance_door</th>\n",
       "      <th>windows</th>\n",
       "      <th>heating</th>\n",
       "      <th>parking</th>\n",
       "      <th>cooling</th>\n",
       "      <th>new_building</th>\n",
       "      <th>condition</th>\n",
       "    </tr>\n",
       "  </thead>\n",
       "  <tbody>\n",
       "    <tr>\n",
       "      <th>0</th>\n",
       "      <td>bnakaran</td>\n",
       "      <td>d108949</td>\n",
       "      <td>117000.0</td>\n",
       "      <td>84</td>\n",
       "      <td>3</td>\n",
       "      <td>4</td>\n",
       "      <td>5</td>\n",
       "      <td>Stone</td>\n",
       "      <td>30.11.2023</td>\n",
       "      <td>[new wiring, persistent water, new water tubes...</td>\n",
       "      <td>...</td>\n",
       "      <td>{'rooms': '3', 'bedrooms': '2', 'bathrooms': '...</td>\n",
       "      <td>40.208844</td>\n",
       "      <td>laminate</td>\n",
       "      <td>metal</td>\n",
       "      <td>plastic</td>\n",
       "      <td>gas boiler</td>\n",
       "      <td>NaN</td>\n",
       "      <td>NaN</td>\n",
       "      <td>0</td>\n",
       "      <td>Good Condition</td>\n",
       "    </tr>\n",
       "    <tr>\n",
       "      <th>1</th>\n",
       "      <td>bnakaran</td>\n",
       "      <td>d117911</td>\n",
       "      <td>75000.0</td>\n",
       "      <td>67</td>\n",
       "      <td>2</td>\n",
       "      <td>10</td>\n",
       "      <td>10</td>\n",
       "      <td>Other</td>\n",
       "      <td>01.12.2023</td>\n",
       "      <td>[electricity, metal door, built-in wardrobes, ...</td>\n",
       "      <td>...</td>\n",
       "      <td>{'rooms': '2', 'bedrooms': '1', 'kitchens': '1...</td>\n",
       "      <td>40.177870</td>\n",
       "      <td>NaN</td>\n",
       "      <td>metal</td>\n",
       "      <td>plastic</td>\n",
       "      <td>gas boiler</td>\n",
       "      <td>NaN</td>\n",
       "      <td>NaN</td>\n",
       "      <td>0</td>\n",
       "      <td>Good Condition</td>\n",
       "    </tr>\n",
       "  </tbody>\n",
       "</table>\n",
       "<p>2 rows × 22 columns</p>\n",
       "</div>"
      ],
      "text/plain": [
       "     source       id     price  area  rooms  floor  storeys building_type  \\\n",
       "0  bnakaran  d108949  117000.0    84      3      4        5         Stone   \n",
       "1  bnakaran  d117911   75000.0    67      2     10       10         Other   \n",
       "\n",
       "  added_in_date                                additional_features  ...  \\\n",
       "0    30.11.2023  [new wiring, persistent water, new water tubes...  ...   \n",
       "1    01.12.2023  [electricity, metal door, built-in wardrobes, ...  ...   \n",
       "\n",
       "                                        room_details  longitude  flooring  \\\n",
       "0  {'rooms': '3', 'bedrooms': '2', 'bathrooms': '...  40.208844  laminate   \n",
       "1  {'rooms': '2', 'bedrooms': '1', 'kitchens': '1...  40.177870       NaN   \n",
       "\n",
       "   entrance_door  windows     heating parking cooling new_building  \\\n",
       "0          metal  plastic  gas boiler     NaN     NaN            0   \n",
       "1          metal  plastic  gas boiler     NaN     NaN            0   \n",
       "\n",
       "        condition  \n",
       "0  Good Condition  \n",
       "1  Good Condition  \n",
       "\n",
       "[2 rows x 22 columns]"
      ]
     },
     "execution_count": 304,
     "metadata": {},
     "output_type": "execute_result"
    }
   ],
   "source": [
    "bnakaran = pd.read_csv(\"../scraping_results/data/bnakaran_apartments.csv\")\n",
    "bnakaran = bnakaran.dropna(axis = 1, how=\"all\") # remove all NaN columns \n",
    "bnakaran['room_details'] = bnakaran['room_details'].apply(ast.literal_eval)\n",
    "bnakaran['additional_features'] = bnakaran['additional_features'].apply(ast.literal_eval)\n",
    "\n",
    "bnakaran[\"new_building\"] = bnakaran[\"webpage\"].str\\\n",
    "    .contains(\"new-building\")\\\n",
    "    .apply(lambda x: 1 if x else 0)\n",
    "\n",
    "bnakaran[\"building_type\"] = bnakaran[\"construction_type\"]\\\n",
    "    .map(building_type_mapping[\"bnakaran\"])\\\n",
    "    .fillna(\"Other\")\n",
    "\n",
    "bnakaran[\"condition\"] = bnakaran[\"renovation\"]\\\n",
    "    .map(condition_mapping)\\\n",
    "    .fillna(\"Other\")\n",
    "\n",
    "\n",
    "bnakaran = bnakaran.drop(columns = [\"webpage\", \"renovation\", \"construction_type\", \"utilities\"])\n",
    "bnakaran.head(2)"
   ]
  },
  {
   "cell_type": "code",
   "execution_count": 305,
   "id": "dab66196",
   "metadata": {},
   "outputs": [],
   "source": [
    "bathroom_counts = []\n",
    "for details in bnakaran[\"room_details\"]:\n",
    "    bathroom_count = int(details.get(\"bathrooms\", 0))\n",
    "    bathroom_counts.append(bathroom_count)\n",
    "\n",
    "bnakaran = bnakaran.drop(columns = [\"room_details\"])\n",
    "bnakaran[\"bathroom_count\"] = bathroom_counts"
   ]
  },
  {
   "cell_type": "code",
   "execution_count": 306,
   "id": "a5278962",
   "metadata": {},
   "outputs": [],
   "source": [
    "f_feature_list = []\n",
    "for feature_list in bnakaran[\"additional_features\"].to_list():\n",
    "    feature_list = [feature_mapping[feature] for feature in feature_list if feature in feature_mapping]\n",
    "    feature_list = [feature for feature in feature_list if feature in commong_features]\n",
    "    f_feature_list.append(feature_list)\n",
    "f_feature_list\n",
    "bnakaran[\"additional_features\"] = f_feature_list\n",
    "bnakaran = dummify_columns(bnakaran, [\"additional_features\"], commong_features)"
   ]
  },
  {
   "cell_type": "code",
   "execution_count": 307,
   "id": "5f614d6c",
   "metadata": {},
   "outputs": [],
   "source": [
    "# Air Conditioner\n",
    "ac_present = bnakaran[\"cooling\"].isna()\n",
    "ac_present = ac_present.apply(lambda x: 1 if x else 0)\n",
    "bnakaran[\"F_Air Conditioner\"] = (ac_present + bnakaran[\"F_Air Conditioner\"]).apply(lambda x: min(x, 1))\n",
    "\n",
    "# Heating\n",
    "heating_present = bnakaran[\"heating\"].isna()\n",
    "heating_present = heating_present.apply(lambda x: 1 if x else 0)\n",
    "bnakaran[\"F_Heating System\"] = (heating_present + bnakaran[\"F_Heating System\"]).apply(lambda x: min(x, 1))\n",
    "bnakaran = bnakaran.drop(columns = [\"cooling\", \"heating\"])"
   ]
  },
  {
   "cell_type": "markdown",
   "id": "09c4758f",
   "metadata": {},
   "source": [
    "### Bathroom count"
   ]
  },
  {
   "cell_type": "code",
   "execution_count": 308,
   "id": "5fcfc408",
   "metadata": {},
   "outputs": [],
   "source": [
    "bnakaran = bnakaran.drop(columns = [\"windows\", \"entrance_door\", \"parking\",\n",
    "                                    \"flooring\", \"added_in_date\", \"visit_count\"])"
   ]
  },
  {
   "cell_type": "code",
   "execution_count": 314,
   "id": "87626e7d",
   "metadata": {},
   "outputs": [],
   "source": [
    "bnakaran.to_csv(\"../processed_data/bnakaran.csv\")"
   ]
  },
  {
   "cell_type": "code",
   "execution_count": 313,
   "id": "7872c442",
   "metadata": {},
   "outputs": [
    {
     "name": "stdout",
     "output_type": "stream",
     "text": [
      "<class 'pandas.core.frame.DataFrame'>\n",
      "RangeIndex: 1247 entries, 0 to 1246\n",
      "Data columns (total 20 columns):\n",
      " #   Column             Non-Null Count  Dtype  \n",
      "---  ------             --------------  -----  \n",
      " 0   source             1247 non-null   object \n",
      " 1   id                 1247 non-null   object \n",
      " 2   price              1247 non-null   float64\n",
      " 3   area               1247 non-null   int64  \n",
      " 4   rooms              1247 non-null   int64  \n",
      " 5   floor              1247 non-null   int64  \n",
      " 6   storeys            1247 non-null   int64  \n",
      " 7   building_type      1247 non-null   object \n",
      " 8   latitude           1247 non-null   float64\n",
      " 9   longitude          1247 non-null   float64\n",
      " 10  new_building       1247 non-null   int64  \n",
      " 11  condition          1247 non-null   object \n",
      " 12  bathroom_count     1247 non-null   int64  \n",
      " 13  F_Security         1247 non-null   int64  \n",
      " 14  F_Elevator         1247 non-null   int64  \n",
      " 15  F_Heating System   1247 non-null   int64  \n",
      " 16  F_Internet         1247 non-null   int64  \n",
      " 17  F_Balcony          1247 non-null   int64  \n",
      " 18  F_Furniture        1247 non-null   int64  \n",
      " 19  F_Air Conditioner  1247 non-null   int64  \n",
      "dtypes: float64(3), int64(13), object(4)\n",
      "memory usage: 195.0+ KB\n"
     ]
    }
   ],
   "source": [
    "bnakaran.info()"
   ]
  },
  {
   "cell_type": "code",
   "execution_count": null,
   "id": "1a0cea2f",
   "metadata": {},
   "outputs": [],
   "source": []
  }
 ],
 "metadata": {
  "kernelspec": {
   "display_name": "Python 3 (ipykernel)",
   "language": "python",
   "name": "python3"
  },
  "language_info": {
   "codemirror_mode": {
    "name": "ipython",
    "version": 3
   },
   "file_extension": ".py",
   "mimetype": "text/x-python",
   "name": "python",
   "nbconvert_exporter": "python",
   "pygments_lexer": "ipython3",
   "version": "3.9.13"
  }
 },
 "nbformat": 4,
 "nbformat_minor": 5
}
