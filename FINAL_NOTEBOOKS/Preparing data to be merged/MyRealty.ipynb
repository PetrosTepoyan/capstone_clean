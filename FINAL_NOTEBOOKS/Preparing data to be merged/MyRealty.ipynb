{
 "cells": [
  {
   "cell_type": "code",
   "execution_count": 125,
   "id": "ae251c7c",
   "metadata": {},
   "outputs": [
    {
     "name": "stdout",
     "output_type": "stream",
     "text": [
      "The autoreload extension is already loaded. To reload it, use:\n",
      "  %reload_ext autoreload\n"
     ]
    }
   ],
   "source": [
    "%load_ext autoreload\n",
    "%autoreload 2\n",
    "import sys\n",
    "sys.path.append(\"..\")"
   ]
  },
  {
   "cell_type": "code",
   "execution_count": 126,
   "id": "b1397f4f",
   "metadata": {},
   "outputs": [],
   "source": [
    "import pandas as pd\n",
    "import json\n",
    "import numpy as np\n",
    "import ast\n",
    "from utils.dummies import dummify_columns"
   ]
  },
  {
   "cell_type": "code",
   "execution_count": 127,
   "id": "b259a6bb",
   "metadata": {},
   "outputs": [],
   "source": [
    "with open(\"../config.json\", 'r') as file:\n",
    "    config = json.load(file)\n",
    "    commong_features = set(config[\"COMMON_FEATURES\"])\n",
    "    feature_mapping = config[\"feature_mapping\"][\"myrealty\"]\n",
    "    condition_mapping = config[\"condition_type_mapping\"][\"myrealty\"]"
   ]
  },
  {
   "cell_type": "code",
   "execution_count": 128,
   "id": "ec7e86e3",
   "metadata": {},
   "outputs": [
    {
     "data": {
      "text/html": [
       "<div>\n",
       "<style scoped>\n",
       "    .dataframe tbody tr th:only-of-type {\n",
       "        vertical-align: middle;\n",
       "    }\n",
       "\n",
       "    .dataframe tbody tr th {\n",
       "        vertical-align: top;\n",
       "    }\n",
       "\n",
       "    .dataframe thead th {\n",
       "        text-align: right;\n",
       "    }\n",
       "</style>\n",
       "<table border=\"1\" class=\"dataframe\">\n",
       "  <thead>\n",
       "    <tr style=\"text-align: right;\">\n",
       "      <th></th>\n",
       "      <th>source</th>\n",
       "      <th>id</th>\n",
       "      <th>price</th>\n",
       "      <th>facilities</th>\n",
       "      <th>location</th>\n",
       "      <th>area</th>\n",
       "      <th>rooms</th>\n",
       "      <th>floor</th>\n",
       "      <th>storeys</th>\n",
       "      <th>building_type</th>\n",
       "      <th>condition</th>\n",
       "      <th>bathroom_count</th>\n",
       "      <th>new_building</th>\n",
       "    </tr>\n",
       "  </thead>\n",
       "  <tbody>\n",
       "    <tr>\n",
       "      <th>0</th>\n",
       "      <td>myrealty</td>\n",
       "      <td>142711</td>\n",
       "      <td>87000</td>\n",
       "      <td>[Heating, Internet, Hot water, Gas, Water, wat...</td>\n",
       "      <td>Yerevan, Achapnyak, Mazmanyan St</td>\n",
       "      <td>60</td>\n",
       "      <td>2</td>\n",
       "      <td>1</td>\n",
       "      <td>5</td>\n",
       "      <td>Stone</td>\n",
       "      <td>Good Condition</td>\n",
       "      <td>1</td>\n",
       "      <td>0</td>\n",
       "    </tr>\n",
       "    <tr>\n",
       "      <th>1</th>\n",
       "      <td>myrealty</td>\n",
       "      <td>142709</td>\n",
       "      <td>76500</td>\n",
       "      <td>[Heating, Hot water, Electricity, Gas, Water, ...</td>\n",
       "      <td>Yerevan, Achapnyak, Bashinjaxyan St</td>\n",
       "      <td>48</td>\n",
       "      <td>2</td>\n",
       "      <td>4</td>\n",
       "      <td>5</td>\n",
       "      <td>Stone</td>\n",
       "      <td>Good Condition</td>\n",
       "      <td>1</td>\n",
       "      <td>0</td>\n",
       "    </tr>\n",
       "  </tbody>\n",
       "</table>\n",
       "</div>"
      ],
      "text/plain": [
       "     source      id  price                                         facilities  \\\n",
       "0  myrealty  142711  87000  [Heating, Internet, Hot water, Gas, Water, wat...   \n",
       "1  myrealty  142709  76500  [Heating, Hot water, Electricity, Gas, Water, ...   \n",
       "\n",
       "                              location  area  rooms  floor  storeys  \\\n",
       "0     Yerevan, Achapnyak, Mazmanyan St    60      2      1        5   \n",
       "1  Yerevan, Achapnyak, Bashinjaxyan St    48      2      4        5   \n",
       "\n",
       "  building_type       condition  bathroom_count  new_building  \n",
       "0         Stone  Good Condition               1             0  \n",
       "1         Stone  Good Condition               1             0  "
      ]
     },
     "execution_count": 128,
     "metadata": {},
     "output_type": "execute_result"
    }
   ],
   "source": [
    "myrealty = pd.read_csv(\"../scraping_results/data/myrealty_apartments.csv\")\n",
    "myrealty = myrealty.dropna(axis = 1, how=\"all\") # remove all NaN columns \n",
    "\n",
    "myrealty[\"new_building\"] = myrealty[\"webpage\"].str\\\n",
    "    .contains(\"new-construction\")\\\n",
    "    .apply(lambda x: 1 if x else 0)\n",
    "\n",
    "myrealty[\"bathroom_count\"] = myrealty[\"bathroom_count\"]\\\n",
    "    .replace(to_replace=r'\\D', value='', regex=True)\\\n",
    "    .astype(int)\n",
    "\n",
    "# Condition\n",
    "myrealty[\"condition\"] = myrealty[\"condition\"].map(condition_mapping)\n",
    "\n",
    "myrealty['facilities'] = myrealty['facilities'].apply(ast.literal_eval)\n",
    "\n",
    "myrealty = myrealty.drop(columns = [\n",
    "    \"webpage\",\n",
    "    \"view_count\",\n",
    "    \"added_in_date\",\n",
    "    \"ceiling_height\"\n",
    "])\n",
    "\n",
    "myrealty.head(2)"
   ]
  },
  {
   "cell_type": "code",
   "execution_count": 129,
   "id": "5b0f275a",
   "metadata": {},
   "outputs": [],
   "source": [
    "f_feature_list = []\n",
    "for feature_list in myrealty[\"facilities\"].to_list():\n",
    "    feature_list = [feature_mapping[feature] for feature in feature_list if feature in feature_mapping]\n",
    "    feature_list = [feature for feature in feature_list if feature in commong_features]\n",
    "    f_feature_list.append(feature_list)\n",
    "    \n",
    "myrealty[\"facilities\"] = f_feature_list\n",
    "myrealty = dummify_columns(myrealty, [\"facilities\"], commong_features)"
   ]
  },
  {
   "cell_type": "code",
   "execution_count": 130,
   "id": "3b24a35d",
   "metadata": {},
   "outputs": [
    {
     "name": "stdout",
     "output_type": "stream",
     "text": [
      "<class 'pandas.core.frame.DataFrame'>\n",
      "RangeIndex: 1017 entries, 0 to 1016\n",
      "Data columns (total 19 columns):\n",
      " #   Column             Non-Null Count  Dtype \n",
      "---  ------             --------------  ----- \n",
      " 0   source             1017 non-null   object\n",
      " 1   id                 1017 non-null   int64 \n",
      " 2   price              1017 non-null   int64 \n",
      " 3   location           1017 non-null   object\n",
      " 4   area               1017 non-null   int64 \n",
      " 5   rooms              1017 non-null   int64 \n",
      " 6   floor              1017 non-null   int64 \n",
      " 7   storeys            1017 non-null   int64 \n",
      " 8   building_type      1017 non-null   object\n",
      " 9   condition          1017 non-null   object\n",
      " 10  bathroom_count     1017 non-null   int64 \n",
      " 11  new_building       1017 non-null   int64 \n",
      " 12  F_Elevator         1017 non-null   int64 \n",
      " 13  F_Furniture        1017 non-null   int64 \n",
      " 14  F_Heating System   1017 non-null   int64 \n",
      " 15  F_Security         1017 non-null   int64 \n",
      " 16  F_Internet         1017 non-null   int64 \n",
      " 17  F_Balcony          1017 non-null   int64 \n",
      " 18  F_Air Conditioner  1017 non-null   int64 \n",
      "dtypes: int64(15), object(4)\n",
      "memory usage: 151.1+ KB\n"
     ]
    }
   ],
   "source": [
    "myrealty.info()"
   ]
  },
  {
   "cell_type": "markdown",
   "id": "db307514",
   "metadata": {},
   "source": [
    "# Converting the location into a latitude & longitude"
   ]
  },
  {
   "cell_type": "code",
   "execution_count": 135,
   "id": "e7d52843",
   "metadata": {},
   "outputs": [],
   "source": [
    "from Services import GeoService, MapFeatureAggregator, AddressToCoordinateConverter\n",
    "from utils.formatting import myrealty_format_address"
   ]
  },
  {
   "cell_type": "code",
   "execution_count": 136,
   "id": "3eafcc1d",
   "metadata": {},
   "outputs": [],
   "source": [
    "myrealty['location'] = myrealty['location'].apply(myrealty_format_address)\n",
    "converter = AddressToCoordinateConverter(\"../Data Manipulation | Notebooks/streets.csv\")\n",
    "myrealty[\"coordinates\"] = myrealty[\"location\"].apply(converter.convert)"
   ]
  },
  {
   "cell_type": "code",
   "execution_count": 147,
   "id": "56da1db4",
   "metadata": {},
   "outputs": [],
   "source": [
    "myrealty[\"latitude\"] = myrealty[\"coordinates\"].apply(lambda x: x[1])\n",
    "myrealty[\"longitude\"] = myrealty[\"coordinates\"].apply(lambda x: x[0])\n",
    "myrealty = myrealty.drop(columns = [\"coordinates\", \"location\"])"
   ]
  },
  {
   "cell_type": "code",
   "execution_count": 152,
   "id": "55aceaf7",
   "metadata": {},
   "outputs": [],
   "source": [
    "myrealty.to_csv(\"../processed_data/myrealty.csv\")"
   ]
  },
  {
   "cell_type": "code",
   "execution_count": 151,
   "id": "d3355f28",
   "metadata": {},
   "outputs": [
    {
     "name": "stdout",
     "output_type": "stream",
     "text": [
      "<class 'pandas.core.frame.DataFrame'>\n",
      "RangeIndex: 1017 entries, 0 to 1016\n",
      "Data columns (total 20 columns):\n",
      " #   Column             Non-Null Count  Dtype  \n",
      "---  ------             --------------  -----  \n",
      " 0   source             1017 non-null   object \n",
      " 1   id                 1017 non-null   int64  \n",
      " 2   price              1017 non-null   int64  \n",
      " 3   area               1017 non-null   int64  \n",
      " 4   rooms              1017 non-null   int64  \n",
      " 5   floor              1017 non-null   int64  \n",
      " 6   storeys            1017 non-null   int64  \n",
      " 7   building_type      1017 non-null   object \n",
      " 8   condition          1017 non-null   object \n",
      " 9   bathroom_count     1017 non-null   int64  \n",
      " 10  new_building       1017 non-null   int64  \n",
      " 11  F_Elevator         1017 non-null   int64  \n",
      " 12  F_Furniture        1017 non-null   int64  \n",
      " 13  F_Heating System   1017 non-null   int64  \n",
      " 14  F_Security         1017 non-null   int64  \n",
      " 15  F_Internet         1017 non-null   int64  \n",
      " 16  F_Balcony          1017 non-null   int64  \n",
      " 17  F_Air Conditioner  1017 non-null   int64  \n",
      " 18  latitude           1017 non-null   float64\n",
      " 19  longitude          1017 non-null   float64\n",
      "dtypes: float64(2), int64(15), object(3)\n",
      "memory usage: 159.0+ KB\n"
     ]
    }
   ],
   "source": [
    "myrealty.info()"
   ]
  },
  {
   "cell_type": "code",
   "execution_count": null,
   "id": "6837c866",
   "metadata": {},
   "outputs": [],
   "source": []
  }
 ],
 "metadata": {
  "kernelspec": {
   "display_name": "Python 3 (ipykernel)",
   "language": "python",
   "name": "python3"
  },
  "language_info": {
   "codemirror_mode": {
    "name": "ipython",
    "version": 3
   },
   "file_extension": ".py",
   "mimetype": "text/x-python",
   "name": "python",
   "nbconvert_exporter": "python",
   "pygments_lexer": "ipython3",
   "version": "3.9.13"
  }
 },
 "nbformat": 4,
 "nbformat_minor": 5
}
