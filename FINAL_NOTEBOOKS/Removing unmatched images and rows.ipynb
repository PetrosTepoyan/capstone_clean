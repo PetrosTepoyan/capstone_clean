{
 "cells": [
  {
   "cell_type": "code",
   "execution_count": 1,
   "id": "11275bca",
   "metadata": {},
   "outputs": [],
   "source": [
    "import pandas as pd\n",
    "import os\n",
    "import shutil"
   ]
  },
  {
   "cell_type": "code",
   "execution_count": 2,
   "id": "a06188dc",
   "metadata": {},
   "outputs": [],
   "source": [
    "def copy_images(from_dir, to_dir):\n",
    "    shutil.copytree(from_dir, to_dir)"
   ]
  },
  {
   "cell_type": "code",
   "execution_count": 3,
   "id": "d544630e",
   "metadata": {},
   "outputs": [],
   "source": [
    "def delete_images_not_in_data(data_file, images_dir):\n",
    "    # Load your dataset into a pandas DataFrame\n",
    "    dataset = pd.read_csv(data_file)  # Change the file path accordingly\n",
    "    # Define the directory path\n",
    "    directory_path = images_dir  # Change to your actual directory path\n",
    "    to_delete = []\n",
    "    # Iterate through the folders in the directory\n",
    "    for folder_name in os.listdir(images_dir):\n",
    "        folder_path = os.path.join(images_dir, folder_name)\n",
    "\n",
    "        # Check if the folder name (source) is in the dataset\n",
    "        if folder_name in dataset['source'].values:\n",
    "            folder_files = set(os.listdir(folder_path))\n",
    "\n",
    "            # Extract the relevant IDs from the dataset for the current source\n",
    "            ids_in_dataset = set(dataset[dataset['source'] == folder_name]['id'])\n",
    "\n",
    "            # Calculate the set difference to find images not in the dataset\n",
    "            files_to_delete = folder_files - ids_in_dataset\n",
    "\n",
    "            # Delete the images not in the dataset\n",
    "            for file_to_delete in files_to_delete:\n",
    "                file_path = os.path.join(folder_path, file_to_delete)\n",
    "                if \"DS_Store\" not in file_path:\n",
    "                    to_delete.append(file_path)\n",
    "        else:\n",
    "            # If the source is not in the dataset, you can handle it accordingly\n",
    "            print(f\"Source '{folder_name}' not found in the dataset, skipping...\")\n",
    "\n",
    "    # If needed, you can add error handling for file operations\n",
    "    print(\"Deleting\", len(to_delete))\n",
    "    for file_path in to_delete:\n",
    "        shutil.rmtree(file_path)\n",
    "        \n",
    "def delete_datapoint_with_no_images(data_dir, images):\n",
    "\n",
    "    # Load your dataset into a pandas DataFrame\n",
    "    dataset = pd.read_csv(data_dir)  # Change the file path accordingly\n",
    "\n",
    "    # Define the directory path\n",
    "    directory_path = images  # Change to your actual directory path\n",
    "\n",
    "    # Create a list to store indices of rows to delete\n",
    "    rows_to_delete = []\n",
    "\n",
    "    # Iterate through the DataFrame rows\n",
    "    for index, row in dataset.iterrows():\n",
    "        source = row['source']\n",
    "        id_value = row['id']\n",
    "        folder_path = os.path.join(directory_path, source)\n",
    "\n",
    "        # Check if the image corresponding to the row exists in the directory\n",
    "        if not os.path.exists(os.path.join(folder_path, id_value)):\n",
    "            rows_to_delete.append(index)\n",
    "    print(rows_to_delete)\n",
    "    # Delete rows with no corresponding images\n",
    "    dataset.drop(rows_to_delete, inplace=True)\n",
    "\n",
    "    # If needed, reset the index of the modified DataFrame\n",
    "    dataset.reset_index(drop=True, inplace=True)\n",
    "\n",
    "    return dataset"
   ]
  },
  {
   "cell_type": "code",
   "execution_count": 5,
   "id": "82e76f6e",
   "metadata": {},
   "outputs": [
    {
     "name": "stdout",
     "output_type": "stream",
     "text": [
      "Source '.DS_Store' not found in the dataset, skipping...\n",
      "Deleting 0\n",
      "[]\n"
     ]
    }
   ],
   "source": [
    "\n",
    "data_dir = '../processed_data/data.csv'\n",
    "images = '../processed_data/images/'\n",
    "\n",
    "delete_images_not_in_data(\n",
    "    data_dir,\n",
    "    images\n",
    ")\n",
    "dataset = delete_datapoint_with_no_images(\n",
    "    data_dir,\n",
    "    images\n",
    ")\n",
    "\n",
    "# copy_images(\"../processed_data/images\", \"../processed_data/images_small\")\n",
    "# delete_images_not_in_data(\n",
    "#     '../processed_data/data_small.csv',\n",
    "#     \"../processed_data/images_small\"\n",
    "# )\n",
    "# dataset = delete_datapoint_with_no_images(\n",
    "#     '../processed_data/data_small.csv',\n",
    "#     \"../processed_data/images_small\"\n",
    "# )\n",
    "# dataset.to_csv('../processed_data/data_small.csv', index=False)"
   ]
  },
  {
   "cell_type": "code",
   "execution_count": 6,
   "id": "82d75d4f",
   "metadata": {},
   "outputs": [
    {
     "name": "stdout",
     "output_type": "stream",
     "text": [
      "Source '.DS_Store' not found in the dataset, skipping...\n",
      "Deleting 0\n",
      "[]\n"
     ]
    }
   ],
   "source": [
    "# copy_images(\"../processed_data/images\", \"../processed_data/images_gpt\")\n",
    "delete_images_not_in_data(\n",
    "    '../processed_data/data_gpt.csv',\n",
    "    \"../processed_data/images_gpt\"\n",
    ")\n",
    "dataset = delete_datapoint_with_no_images(\n",
    "    '../processed_data/data_gpt.csv',\n",
    "    \"../processed_data/images_gpt\"\n",
    ")\n",
    "dataset.to_csv('../processed_data/data_gpt.csv', index=False)"
   ]
  },
  {
   "cell_type": "code",
   "execution_count": null,
   "id": "7a4552ac",
   "metadata": {},
   "outputs": [],
   "source": []
  }
 ],
 "metadata": {
  "kernelspec": {
   "display_name": "Python 3 (ipykernel)",
   "language": "python",
   "name": "python3"
  },
  "language_info": {
   "codemirror_mode": {
    "name": "ipython",
    "version": 3
   },
   "file_extension": ".py",
   "mimetype": "text/x-python",
   "name": "python",
   "nbconvert_exporter": "python",
   "pygments_lexer": "ipython3",
   "version": "3.9.13"
  }
 },
 "nbformat": 4,
 "nbformat_minor": 5
}
