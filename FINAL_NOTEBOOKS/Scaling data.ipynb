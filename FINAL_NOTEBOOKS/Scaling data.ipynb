{
 "cells": [
  {
   "cell_type": "code",
   "execution_count": 1,
   "id": "1b2a1ba6",
   "metadata": {},
   "outputs": [
    {
     "data": {
      "text/html": [
       "<div>\n",
       "<style scoped>\n",
       "    .dataframe tbody tr th:only-of-type {\n",
       "        vertical-align: middle;\n",
       "    }\n",
       "\n",
       "    .dataframe tbody tr th {\n",
       "        vertical-align: top;\n",
       "    }\n",
       "\n",
       "    .dataframe thead th {\n",
       "        text-align: right;\n",
       "    }\n",
       "</style>\n",
       "<table border=\"1\" class=\"dataframe\">\n",
       "  <thead>\n",
       "    <tr style=\"text-align: right;\">\n",
       "      <th></th>\n",
       "      <th>source</th>\n",
       "      <th>id</th>\n",
       "      <th>price</th>\n",
       "      <th>area</th>\n",
       "      <th>rooms</th>\n",
       "      <th>floor</th>\n",
       "      <th>storeys</th>\n",
       "      <th>bathroom_count</th>\n",
       "      <th>new_building</th>\n",
       "      <th>F_Furniture</th>\n",
       "      <th>...</th>\n",
       "      <th>SL_baghramyan_subway</th>\n",
       "      <th>SL_shengavit_subway</th>\n",
       "      <th>L_pharmacy</th>\n",
       "      <th>L_atm</th>\n",
       "      <th>L_parking</th>\n",
       "      <th>L_clinic</th>\n",
       "      <th>L_place_of_worship</th>\n",
       "      <th>L_university</th>\n",
       "      <th>L_kindergarten</th>\n",
       "      <th>L_hospital</th>\n",
       "    </tr>\n",
       "  </thead>\n",
       "  <tbody>\n",
       "    <tr>\n",
       "      <th>0</th>\n",
       "      <td>bars</td>\n",
       "      <td>4-3-1430</td>\n",
       "      <td>130000.0</td>\n",
       "      <td>60.5</td>\n",
       "      <td>2.0</td>\n",
       "      <td>3.0</td>\n",
       "      <td>13.0</td>\n",
       "      <td>1.0</td>\n",
       "      <td>1</td>\n",
       "      <td>0</td>\n",
       "      <td>...</td>\n",
       "      <td>867</td>\n",
       "      <td>6157</td>\n",
       "      <td>1</td>\n",
       "      <td>5</td>\n",
       "      <td>2</td>\n",
       "      <td>1</td>\n",
       "      <td>0</td>\n",
       "      <td>0</td>\n",
       "      <td>0</td>\n",
       "      <td>0</td>\n",
       "    </tr>\n",
       "  </tbody>\n",
       "</table>\n",
       "<p>1 rows × 36 columns</p>\n",
       "</div>"
      ],
      "text/plain": [
       "  source        id     price  area  rooms  floor  storeys  bathroom_count  \\\n",
       "0   bars  4-3-1430  130000.0  60.5    2.0    3.0     13.0             1.0   \n",
       "\n",
       "   new_building  F_Furniture  ...  SL_baghramyan_subway  SL_shengavit_subway  \\\n",
       "0             1            0  ...                   867                 6157   \n",
       "\n",
       "   L_pharmacy  L_atm  L_parking  L_clinic  L_place_of_worship  L_university  \\\n",
       "0           1      5          2         1                   0             0   \n",
       "\n",
       "   L_kindergarten  L_hospital  \n",
       "0               0           0  \n",
       "\n",
       "[1 rows x 36 columns]"
      ]
     },
     "execution_count": 1,
     "metadata": {},
     "output_type": "execute_result"
    }
   ],
   "source": [
    "import numpy as np\n",
    "import pandas as pd\n",
    "data = pd.read_csv(\"../processed_data/data.csv\")\n",
    "data.head(1)"
   ]
  },
  {
   "cell_type": "code",
   "execution_count": 2,
   "id": "1dfe68a1",
   "metadata": {},
   "outputs": [
    {
     "data": {
      "text/plain": [
       "['new_building',\n",
       " 'F_Furniture',\n",
       " 'F_Security',\n",
       " 'F_Air Conditioner',\n",
       " 'F_Balcony',\n",
       " 'F_Heating System',\n",
       " 'F_Internet',\n",
       " 'F_Elevator',\n",
       " 'building_type_Monolit',\n",
       " 'building_type_Panel',\n",
       " 'building_type_Stone',\n",
       " 'condition_Good Condition',\n",
       " 'condition_Needs Renovation/Repair',\n",
       " 'condition_New/Excellent Condition',\n",
       " 'L_pharmacy',\n",
       " 'L_clinic',\n",
       " 'L_place_of_worship',\n",
       " 'L_university',\n",
       " 'L_kindergarten',\n",
       " 'L_hospital']"
      ]
     },
     "execution_count": 2,
     "metadata": {},
     "output_type": "execute_result"
    }
   ],
   "source": [
    "desc = data.describe()\n",
    "categorical = (desc.loc[\"min\", :] == 0) & (desc.loc[\"max\", :] == 1 )\n",
    "categorical = categorical[categorical == True]\n",
    "categorical = list(categorical.index)\n",
    "categorical"
   ]
  },
  {
   "cell_type": "code",
   "execution_count": 3,
   "id": "c01f0755",
   "metadata": {},
   "outputs": [
    {
     "data": {
      "text/plain": [
       "['L_pharmacy',\n",
       " 'L_atm',\n",
       " 'L_parking',\n",
       " 'L_clinic',\n",
       " 'L_place_of_worship',\n",
       " 'L_university',\n",
       " 'L_kindergarten',\n",
       " 'L_hospital']"
      ]
     },
     "execution_count": 3,
     "metadata": {},
     "output_type": "execute_result"
    }
   ],
   "source": [
    "amenities = [col for col in data.columns if col.startswith(\"L_\")]\n",
    "amenities"
   ]
  },
  {
   "cell_type": "code",
   "execution_count": 16,
   "id": "2908c148",
   "metadata": {},
   "outputs": [
    {
     "name": "stdout",
     "output_type": "stream",
     "text": [
      "price                   1.336115e-16\n",
      "area                    8.541023e-17\n",
      "rooms                  -1.700510e-16\n",
      "floor                  -5.463177e-17\n",
      "storeys                -8.351680e-16\n",
      "bathroom_count         -2.895374e-16\n",
      "SL_opera               -3.469172e-16\n",
      "SL_zvartnoc            -1.257520e-16\n",
      "SL_central_cemetery     8.793846e-19\n",
      "SL_baghramyan_subway    9.409415e-17\n",
      "SL_shengavit_subway    -4.086940e-16\n",
      "L_atm                   3.329570e-16\n",
      "L_parking               8.743831e-16\n",
      "dtype: float64 price                   1.0\n",
      "area                    1.0\n",
      "rooms                   1.0\n",
      "floor                   1.0\n",
      "storeys                 1.0\n",
      "bathroom_count          1.0\n",
      "SL_opera                1.0\n",
      "SL_zvartnoc             1.0\n",
      "SL_central_cemetery     1.0\n",
      "SL_baghramyan_subway    1.0\n",
      "SL_shengavit_subway     1.0\n",
      "L_atm                   1.0\n",
      "L_parking               1.0\n",
      "dtype: float64\n",
      "Index(['price', 'area', 'rooms', 'floor', 'storeys', 'bathroom_count',\n",
      "       'SL_opera', 'SL_zvartnoc', 'SL_central_cemetery',\n",
      "       'SL_baghramyan_subway', 'SL_shengavit_subway', 'L_atm', 'L_parking'],\n",
      "      dtype='object')\n"
     ]
    }
   ],
   "source": [
    "scalable_data = data.drop(columns = categorical).select_dtypes(exclude=['object'])\n",
    "means = scalable_data.mean()\n",
    "stds = scalable_data.std()\n",
    "print(means, stds)\n",
    "print(scalable_data.columns)\n",
    "\n",
    "scalable_data = (scalable_data - means) / stds\n",
    "for col in scalable_data:\n",
    "    data[col] = scalable_data[col]"
   ]
  },
  {
   "cell_type": "code",
   "execution_count": 18,
   "id": "973f8b2e",
   "metadata": {},
   "outputs": [],
   "source": [
    "data.to_csv(\"../processed_data/data_scaled.csv\",index=False)"
   ]
  },
  {
   "cell_type": "code",
   "execution_count": null,
   "id": "f05ba81c",
   "metadata": {},
   "outputs": [],
   "source": [
    "# Need to remove one of the categorical variables for each encoding\n",
    "data.drop(columns = [\"building_type_Other\", \"condition_Other\"])"
   ]
  }
 ],
 "metadata": {
  "kernelspec": {
   "display_name": "Python 3 (ipykernel)",
   "language": "python",
   "name": "python3"
  },
  "language_info": {
   "codemirror_mode": {
    "name": "ipython",
    "version": 3
   },
   "file_extension": ".py",
   "mimetype": "text/x-python",
   "name": "python",
   "nbconvert_exporter": "python",
   "pygments_lexer": "ipython3",
   "version": "3.9.13"
  }
 },
 "nbformat": 4,
 "nbformat_minor": 5
}
